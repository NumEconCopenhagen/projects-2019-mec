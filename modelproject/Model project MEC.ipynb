{
 "cells": [
  {
   "cell_type": "markdown",
   "metadata": {},
   "source": [
    " # **Model project**\n",
    " ***"
   ]
  },
  {
   "cell_type": "markdown",
   "metadata": {},
   "source": [
    "# The standard static labour supply model"
   ]
  },
  {
   "cell_type": "markdown",
   "metadata": {},
   "source": [
    "In this model project, we present and solve a standard two-good static labour supply model, where agents value leisure and consumption. In the model presented an individual faces exogenously determined wage and non-labour income. The model is solved in three ways: theoretically, analytically and numerically. For the numerical optimisation, the chosen algorithm is a sequential (least-squares) quadratic programming (SQP) algorithm (SLSQP). Besides the simple model, we extend the model in two ways by including a proportional income tax and a progressive income tax. The size of the tax payment affects the income and therefore also hours worked and consumption level.\n",
    "\n",
    "In part 2, we introduce the standard model and solve it theoretically, analytically and numerically. In part 3 we add a proportional tax to the standard model and in part 4 the model is solved with a progressive tax."
   ]
  },
  {
   "cell_type": "markdown",
   "metadata": {},
   "source": [
    "## The model"
   ]
  },
  {
   "cell_type": "markdown",
   "metadata": {},
   "source": [
    "### The general assumptions"
   ]
  },
  {
   "cell_type": "markdown",
   "metadata": {},
   "source": [
    "The agent only gets utility from enjoying leisure and consumption.\n",
    "\n",
    "The utility function is a standard quasiconcave and monotone utility function: $U(C,L)$ with $U'_C>0$ and $U'_L>0$\n",
    "\n",
    "The individual earn W per hour and the price of the consumption good is P. P is set as numeraire. \n",
    "\n",
    "The real wage can be denoted by $w = \\frac{W}{P}$\n",
    "\n",
    "The individual has non-labour income $\\tilde{R}$, which in real terms will be expressed by $R = \\frac{\\tilde{R}}{P}$"
   ]
  },
  {
   "cell_type": "markdown",
   "metadata": {},
   "source": [
    "### The utility function"
   ]
  },
  {
   "cell_type": "markdown",
   "metadata": {},
   "source": [
    "For simplicity we assume that the utility function is a Cobb Douglas function: $$U(C,L)=C^{\\alpha} L^{1-\\alpha},$$ where $0 <\\alpha < 1$. The agent gets utility from consumption, $C$, and leisure, $L$."
   ]
  },
  {
   "cell_type": "markdown",
   "metadata": {},
   "source": [
    "### The budget constraint"
   ]
  },
  {
   "cell_type": "markdown",
   "metadata": {},
   "source": [
    "The agent has $T$ hours available for consumption, $C$, and leisure, $L$. Hours spend on leisure is hours spend not working, i.e. hours worked is given by $h = T - L$. \n",
    "\n",
    "The budget constraint is given by: $$C \\leq wh+R \\implies C \\leq w(T - L) + R$$"
   ]
  },
  {
   "cell_type": "markdown",
   "metadata": {},
   "source": [
    "### The agent's maximisation problem"
   ]
  },
  {
   "cell_type": "markdown",
   "metadata": {},
   "source": [
    "The agent wishes to maximise:$$max_{C,L} U(C,L)=C^{\\alpha} L^{1-\\alpha}$$ subject to: $$C \\leq w(T - L) + R$$"
   ]
  },
  {
   "cell_type": "markdown",
   "metadata": {},
   "source": [
    "Since we are only interested in an interior solution we can replace the greater and equal sign with an equality: $$C=w(T-L) + R$$"
   ]
  },
  {
   "cell_type": "markdown",
   "metadata": {},
   "source": [
    "This means that we only look at the intensive labour supply i.e. hours worked given employment."
   ]
  },
  {
   "cell_type": "markdown",
   "metadata": {},
   "source": [
    "## Solving the model using Python"
   ]
  },
  {
   "cell_type": "markdown",
   "metadata": {},
   "source": [
    "Before solving the model using Python, we import the relevant packages for this project and a package used for pretty printing of our results."
   ]
  },
  {
   "cell_type": "code",
   "execution_count": 68,
   "metadata": {},
   "outputs": [],
   "source": [
    "import scipy as sp\n",
    "from scipy import optimize\n",
    "import scipy.integrate as integrate\n",
    "import numpy as np\n",
    "import sympy as sm\n",
    "import matplotlib.pyplot as plt\n",
    "\n",
    "# for pretty printing\n",
    "sm.init_printing(use_unicode=True)"
   ]
  },
  {
   "cell_type": "markdown",
   "metadata": {},
   "source": [
    "### Analytically"
   ]
  },
  {
   "cell_type": "markdown",
   "metadata": {},
   "source": [
    "We start by solving the model analytically."
   ]
  },
  {
   "cell_type": "markdown",
   "metadata": {},
   "source": [
    "Defining symbols:"
   ]
  },
  {
   "cell_type": "code",
   "execution_count": 3,
   "metadata": {},
   "outputs": [],
   "source": [
    "C = sm.symbols('C') \n",
    "L = sm.symbols('L')\n",
    "R = sm.symbols('R')\n",
    "W = sm.symbols('W')\n",
    "T = sm.symbols('T')\n",
    "alpha = sm.symbols('alpha')\n",
    "Lmin = sm.symbols('Lmin')"
   ]
  },
  {
   "cell_type": "markdown",
   "metadata": {},
   "source": [
    "Defining the objective function (utility function) and budget constraint:"
   ]
  },
  {
   "cell_type": "code",
   "execution_count": 4,
   "metadata": {},
   "outputs": [
    {
     "data": {
      "image/png": "[encoded data removed]",
      "text/latex": [
       "$$C^{\\alpha} L^{- \\alpha + 1}$$"
      ],
      "text/plain": [
       " α  -α + 1\n",
       "C ⋅L      "
      ]
     },
     "execution_count": 4,
     "metadata": {},
     "output_type": "execute_result"
    }
   ],
   "source": [
    "objective = C**(alpha)*L**(1-alpha)\n",
    "objective"
   ]
  },
  {
   "cell_type": "code",
   "execution_count": 5,
   "metadata": {},
   "outputs": [
    {
     "data": {
      "image/png": "[encoded data removed]",
      "text/latex": [
       "$$R + W \\left(- L + T\\right) = C$$"
      ],
      "text/plain": [
       "R + W⋅(-L + T) = C"
      ]
     },
     "execution_count": 5,
     "metadata": {},
     "output_type": "execute_result"
    }
   ],
   "source": [
    "budget_constraint= sm.Eq(W*(T-L) + R,C)\n",
    "budget_constraint"
   ]
  },
  {
   "cell_type": "markdown",
   "metadata": {},
   "source": [
    "Solving in **four steps**:\n",
    "\n",
    "1. **Isolate** $L$ from the budget constraint\n",
    "2. **Substitute** in $L$\n",
    "3. **Take the derivative** wrt. $C$\n",
    "4. **Solve the FOC** for $C$"
   ]
  },
  {
   "cell_type": "markdown",
   "metadata": {},
   "source": [
    "**Step 1: Isolate**"
   ]
  },
  {
   "cell_type": "code",
   "execution_count": 6,
   "metadata": {},
   "outputs": [
    {
     "data": {
      "image/png": "[encoded data removed]",
      "text/latex": [
       "$$\\left [ \\frac{- C + R + T W}{W}\\right ]$$"
      ],
      "text/plain": [
       "⎡-C + R + T⋅W⎤\n",
       "⎢────────────⎥\n",
       "⎣     W      ⎦"
      ]
     },
     "execution_count": 6,
     "metadata": {},
     "output_type": "execute_result"
    }
   ],
   "source": [
    "L_from_con = sm.solve(budget_constraint,L)\n",
    "L_from_con"
   ]
  },
  {
   "cell_type": "markdown",
   "metadata": {},
   "source": [
    "**Step 2: Substitute**"
   ]
  },
  {
   "cell_type": "code",
   "execution_count": 7,
   "metadata": {},
   "outputs": [
    {
     "data": {
      "image/png": "[encoded data removed]",
      "text/latex": [
       "$$C^{\\alpha} \\left(\\frac{- C + R + T W}{W}\\right)^{- \\alpha + 1}$$"
      ],
      "text/plain": [
       "                 -α + 1\n",
       " α ⎛-C + R + T⋅W⎞      \n",
       "C ⋅⎜────────────⎟      \n",
       "   ⎝     W      ⎠      "
      ]
     },
     "execution_count": 7,
     "metadata": {},
     "output_type": "execute_result"
    }
   ],
   "source": [
    "objective_subs = objective.subs(L,L_from_con[0])\n",
    "objective_subs"
   ]
  },
  {
   "cell_type": "markdown",
   "metadata": {},
   "source": [
    "**Step 3: Take the derivative**"
   ]
  },
  {
   "cell_type": "code",
   "execution_count": 8,
   "metadata": {},
   "outputs": [
    {
     "data": {
      "image/png": "[encoded data removed]",
      "text/latex": [
       "$$- \\frac{C^{\\alpha} \\left(\\frac{- C + R + T W}{W}\\right)^{- \\alpha + 1} \\left(- \\alpha + 1\\right)}{- C + R + T W} + \\frac{C^{\\alpha} \\alpha \\left(\\frac{- C + R + T W}{W}\\right)^{- \\alpha + 1}}{C}$$"
      ],
      "text/plain": [
       "                   -α + 1                               -α + 1\n",
       "   α ⎛-C + R + T⋅W⎞                   α   ⎛-C + R + T⋅W⎞      \n",
       "  C ⋅⎜────────────⎟      ⋅(-α + 1)   C ⋅α⋅⎜────────────⎟      \n",
       "     ⎝     W      ⎠                       ⎝     W      ⎠      \n",
       "- ──────────────────────────────── + ─────────────────────────\n",
       "            -C + R + T⋅W                         C            "
      ]
     },
     "execution_count": 8,
     "metadata": {},
     "output_type": "execute_result"
    }
   ],
   "source": [
    "foc_C = sm.diff(objective_subs,C)\n",
    "foc_C"
   ]
  },
  {
   "cell_type": "markdown",
   "metadata": {},
   "source": [
    "**Step 3: Solve the FOC**"
   ]
  },
  {
   "cell_type": "code",
   "execution_count": 9,
   "metadata": {},
   "outputs": [
    {
     "data": {
      "image/png": "[encoded data removed]",
      "text/latex": [
       "$$\\left [ \\alpha \\left(R + T W\\right)\\right ]$$"
      ],
      "text/plain": [
       "[α⋅(R + T⋅W)]"
      ]
     },
     "execution_count": 9,
     "metadata": {},
     "output_type": "execute_result"
    }
   ],
   "source": [
    "sol_C = sm.solve(sm.Eq(foc_C,0),C)\n",
    "sol_C"
   ]
  },
  {
   "cell_type": "markdown",
   "metadata": {},
   "source": [
    "Substituting $C^*$ into the expression for L obtained in step 1 yields $L^*$:"
   ]
  },
  {
   "cell_type": "code",
   "execution_count": 10,
   "metadata": {},
   "outputs": [
    {
     "data": {
      "image/png": "[encoded data removed]",
      "text/latex": [
       "$$\\frac{R + T W - \\alpha \\left(R + T W\\right)}{W}$$"
      ],
      "text/plain": [
       "R + T⋅W - α⋅(R + T⋅W)\n",
       "─────────────────────\n",
       "          W          "
      ]
     },
     "execution_count": 10,
     "metadata": {},
     "output_type": "execute_result"
    }
   ],
   "source": [
    "L_star = sm.simplify(L_from_con[0].subs(C,sol_C[0]))\n",
    "L_star"
   ]
  },
  {
   "cell_type": "markdown",
   "metadata": {},
   "source": [
    "This means that the analytical solution to the problem is given by: $$(C^*,L^*) = \\left(\\alpha(R+Tw),\\frac{R + Tw - \\alpha(R+Tw)}{w}\\right)$$\n"
   ]
  },
  {
   "cell_type": "markdown",
   "metadata": {},
   "source": [
    "### Numerically"
   ]
  },
  {
   "cell_type": "markdown",
   "metadata": {},
   "source": [
    "Most estimators require the optimisation (maximisation or minimisation) of some objective function. However, in most cases, optimisation problems are too complicated to be solved analytically and therefore we can use numerical optimisation. \n",
    "\n",
    "Numerical optimisation requires the use of an algorithm. The definition of an algorithm is an iterative process that generates a series $x_0,x_1,...,x_n$ that converges to the local minimum (or maximum) $\\hat{x}$. It is defined by a starting point $x_0$ (initial guess), an iterative formula (how to move from $x_n$ to $x_n+1$) and a stopping rule.\n",
    "\n",
    "The iterative formula is the centrepiece of an algorithm as it states how the iterative method updates the current estimate of x. \n",
    "\n",
    "In this project, the chosen algorithm for the numerical optimisation is called a sequential (least-squares) quadratic programming (SQP) algorithm (SLSQP). The algorithm works well for constrained nonlinear optimisation. The drawback is that it is not as efficient as e.g. the BFGS optimisation method. The reason why we use the SLSQP anyway is due to the extension later on in the project where we have a non-linear budget constraint, and for consistency, we have chosen this algorithm for all parts of this project."
   ]
  },
  {
   "cell_type": "markdown",
   "metadata": {},
   "source": [
    "We start by defining the utility function and the budget constraint as python variables. Further, we also specify a value for T, R and W."
   ]
  },
  {
   "cell_type": "code",
   "execution_count": 32,
   "metadata": {},
   "outputs": [],
   "source": [
    "# a. define utility function\n",
    "def CD_utility(x, parameters):\n",
    "    c=x[0]\n",
    "    l=x[1]\n",
    "    alpha=parameters\n",
    "    \n",
    "    u= (c**alpha)*l**(1-alpha)\n",
    "    return -u\n",
    "\n",
    "# b. define budget constraint\n",
    "def eq_constraint(x):\n",
    "    return w*(T-x[1]) + R - x[0]\n",
    "\n",
    "# c. setting values for T, R and w\n",
    "T=14 # hours available\n",
    "R=200 # non-labour income\n",
    "w=150 # wage rate"
   ]
  },
  {
   "cell_type": "markdown",
   "metadata": {},
   "source": [
    "We have added a minus in front of the utility function above since we are using `scipy.optimize` to maximise utility subject to the budget constraint. However, `scipy.optimize` does only have a minimisation attribute, which is the reason we have added a minus in front of the utility function. Further, x[0] corresponds to consumption and x[1] corresponds to leisure. \n",
    "\n",
    "\n",
    "We have set hours available equal to 14 ($T=14$) meaning the agent can maximum choose to work 14 hours. The non-labour income is equal to 200 ($R=200$). Lastly, the wage rate is set equal to 150 ($w=150$)."
   ]
  },
  {
   "cell_type": "code",
   "execution_count": 63,
   "metadata": {},
   "outputs": [
    {
     "name": "stdout",
     "output_type": "stream",
     "text": [
      "Optimization terminated successfully.    (Exit mode 0)\n",
      "            Current function value: -93.8971068015958\n",
      "            Iterations: 13\n",
      "            Function evaluations: 53\n",
      "            Gradient evaluations: 13\n",
      "\n",
      "(C,L) =  [1149.98802263    7.66674652]\n"
     ]
    }
   ],
   "source": [
    "# a. setup\n",
    "eq_con = {'type': 'eq', 'fun': eq_constraint}\n",
    "\n",
    "# b. call optimizer\n",
    "x0 = (5,5) # initial guess (a starting point)\n",
    "alpha1=0.5 # setting a value for alpha\n",
    "result = optimize.minimize(CD_utility,x0,args=alpha1,\n",
    "                             method='SLSQP',\n",
    "                             bounds=None,\n",
    "                             constraints=eq_con,\n",
    "                             options={'disp':True})\n",
    "\n",
    "# c. storing the results\n",
    "result_C1 = result.x[0]\n",
    "result_L1 = result.x[1]\n",
    "\n",
    "# d. printing the results\n",
    "print('\\n(C,L) = ',result.x)"
   ]
  },
  {
   "cell_type": "markdown",
   "metadata": {},
   "source": [
    "The results are that the agent consumes 1150 and has 7.67 hours of leisure (and works 14 - 7.67 = 6.33 hours)."
   ]
  },
  {
   "cell_type": "markdown",
   "metadata": {},
   "source": [
    "Inserting T=14, R=200, w=150 and $\\alpha=0.5$ in the analytical solution yields: \n",
    "\n",
    "$$(C,L) = \\left(\\alpha(R+Tw),\\frac{R + Tw - \\alpha(R+Tw)}{w}\\right) = \\left(0.5(200 + 14*150),\\frac{200 + 14*150 - 0.5(200 + 14*150)}{150}\\right) = (1150 , 7.67)$$\n",
    "\n",
    "This shows that the analytical and numerical solution is the same (the deviations can be attributed to rounding and numerical precision). This means that the optimiser works and we can continue."
   ]
  },
  {
   "cell_type": "markdown",
   "metadata": {},
   "source": [
    "**The effect of $\\alpha$ on consumption and leisure**"
   ]
  },
  {
   "cell_type": "markdown",
   "metadata": {},
   "source": [
    "$\\alpha$ is the budget share spent on consumption, and can also be a measure of the relative preference for consumption to leisure. The optimal bundle of consumption and leisure is, therefore, sensitive to the value chosen for $\\alpha$. In the following, we show how the results for $C^*$ and $L^*$ changes when $\\alpha$ changes (non-labour income and wage rate are held constant)."
   ]
  },
  {
   "cell_type": "code",
   "execution_count": 36,
   "metadata": {},
   "outputs": [
    {
     "name": "stdout",
     "output_type": "stream",
     "text": [
      "\n",
      "alpha =  [0.2, 0.3, 0.4, 0.5, 0.6, 0.7, 0.8] \n",
      "C =  [460.0, 689.9, 920.0, 1150.0, 1380.0, 1610.0, 1840.0] \n",
      "L =  [12.3, 10.7, 9.2, 7.7, 6.1, 4.6, 3.1]\n"
     ]
    }
   ],
   "source": [
    "# a. specifying different values for alpha\n",
    "alphas = [0.2, 0.3, 0.4, 0.5, 0.6, 0.7, 0.8]\n",
    "\n",
    "# b. setup\n",
    "eq_con = {'type': 'eq', 'fun': eq_constraint}\n",
    "\n",
    "x0 = (5,5) # initial guess (starting point)\n",
    "result_C = [] # create empty vector for result of consumption\n",
    "result_L = [] # create empty vector for result of hours of leisure\n",
    "\n",
    "# c. call optimizer\n",
    "for alpha in alphas: # for every value in 'alphas' optimise\n",
    "    result = optimize.minimize(CD_utility,x0,args=alpha,\n",
    "                             method='SLSQP',\n",
    "                             bounds=None,\n",
    "                             constraints=eq_con,\n",
    "                             options={'disp':False})\n",
    "    result_C.append(round((result.x[0]),1)) # saving the results for consumption\n",
    "    result_L.append(round((result.x[1]),1)) # saving the results for leisure\n",
    "\n",
    "# d. printing results\n",
    "print('\\nalpha = ', alphas,'\\nC = ',result_C, '\\nL = ', result_L)"
   ]
  },
  {
   "cell_type": "markdown",
   "metadata": {},
   "source": [
    "The results are plotted in the two figures below."
   ]
  },
  {
   "cell_type": "code",
   "execution_count": 37,
   "metadata": {},
   "outputs": [
    {
     "data": {
      "image/png": "[encoded data removed]",
      "text/plain": [
       "<Figure size 800x400 with 2 Axes>"
      ]
     },
     "metadata": {
      "needs_background": "light"
     },
     "output_type": "display_data"
    }
   ],
   "source": [
    "# a. the figure size\n",
    "fig = plt.figure(figsize=(8,4),dpi=100) \n",
    "\n",
    "# b. left plot - choice of L given w\n",
    "ax_left = fig.add_subplot(1,2,1)\n",
    "\n",
    "ax_left.plot(result_L,alphas)\n",
    "\n",
    "ax_left.set_title('1A. Hours of leisure chosen')\n",
    "ax_left.set_xlabel('$L$')\n",
    "ax_left.set_ylabel('alpha')\n",
    "ax_left.grid(True)\n",
    "\n",
    "# c. right plot - choice of C given w\n",
    "ax_right = fig.add_subplot(1,2,2)\n",
    "\n",
    "ax_right.plot(result_C,alphas)\n",
    "\n",
    "ax_right.set_title('1B. Consumption level chosen')\n",
    "ax_right.set_xlabel('$C$')\n",
    "ax_right.set_ylabel('$alpha$')\n",
    "plt.xlim(400,2000)\n",
    "ax_right.grid(True)"
   ]
  },
  {
   "cell_type": "markdown",
   "metadata": {},
   "source": [
    "The above results show that a smaller value of $\\alpha$ leads to a larger amount of leisure at the expense of a lower consumption level. This makes intuitive sense since an individual with a low value for $\\alpha$ values consumption less to leisure than an individual with a high value for $\\alpha$. Hence, an individual with a low value for $\\alpha$ will spent a lower share of their budget on consumption.\n",
    "\n",
    "In what follows we will set $\\alpha = 0.5$."
   ]
  },
  {
   "cell_type": "markdown",
   "metadata": {},
   "source": [
    "**The effect of w on consumption and leisure**"
   ]
  },
  {
   "cell_type": "markdown",
   "metadata": {},
   "source": [
    "In the following we show how the results for $C^*$ and $L^*$ changes when the wage rate changes ($\\alpha$ and non-labour income are held constant)."
   ]
  },
  {
   "cell_type": "code",
   "execution_count": 38,
   "metadata": {},
   "outputs": [],
   "source": [
    "# a. specifying different values for wages (ws)\n",
    "ws = [25, 50, 75, 100, 125, 150, 175, 200, 225, 250, 275, 300]\n",
    "\n",
    "# b. setup\n",
    "eq_con = {'type': 'eq', 'fun': eq_constraint}\n",
    "x0 = (5,5) # initial guess (starting point)\n",
    "alpha=0.5\n",
    "result_C = [] # create empty vector for result of consumption\n",
    "result_L = [] # create empty vector for result of hours of leisure\n",
    "\n",
    "# c. call optimizer\n",
    "for w in ws: # for every value in 'ws' optimise\n",
    "    result = optimize.minimize(CD_utility,x0,args=alpha1,\n",
    "                             method='SLSQP',\n",
    "                             bounds=None,\n",
    "                             constraints=eq_con,\n",
    "                             options={'disp':False})\n",
    "    result_C.append(result.x[0]) #saving the results for consumption\n",
    "    result_L.append(result.x[1]) #saving the results for leisure"
   ]
  },
  {
   "cell_type": "code",
   "execution_count": 66,
   "metadata": {},
   "outputs": [
    {
     "data": {
      "image/png": "[encoded data removed]",
      "text/plain": [
       "<Figure size 800x400 with 2 Axes>"
      ]
     },
     "metadata": {
      "needs_background": "light"
     },
     "output_type": "display_data"
    }
   ],
   "source": [
    "# plotting the results\n",
    "\n",
    "# a. the figure size\n",
    "fig = plt.figure(figsize=(8,4),dpi=100) \n",
    "\n",
    "# b. left plot - choice of L given w\n",
    "ax_left = fig.add_subplot(1,2,1)\n",
    "\n",
    "ax_left.plot(result_L,ws)\n",
    "\n",
    "ax_left.set_title('2A. Hours of leisure chosen')\n",
    "ax_left.set_xlabel('$L$')\n",
    "ax_left.set_ylabel('w')\n",
    "ax_left.grid(True)\n",
    "\n",
    "# c. right plot - choice of C given w\n",
    "ax_right = fig.add_subplot(1,2,2)\n",
    "\n",
    "ax_right.plot(result_C,ws)\n",
    "\n",
    "ax_right.set_title('2B. Consumption level chosen')\n",
    "ax_right.set_xlabel('$C$')\n",
    "ax_right.set_ylabel('$w$')\n",
    "ax_right.grid(True)"
   ]
  },
  {
   "cell_type": "markdown",
   "metadata": {},
   "source": [
    "The left figure shows that an individual will enjoy more leisure when the wage rate decreases, which makes intuitive sense since the wage rate is the opportunity cost of leisure. However, the wage rate has to decrease quite a lot (from 300 to below 100) before the agent starts to enjoy substantially more leisure. The right figure shows that consumption increases linearly with the wage rate."
   ]
  },
  {
   "cell_type": "markdown",
   "metadata": {},
   "source": [
    "# The standard model with proportional income taxation"
   ]
  },
  {
   "cell_type": "markdown",
   "metadata": {},
   "source": [
    "## The model"
   ]
  },
  {
   "cell_type": "markdown",
   "metadata": {},
   "source": [
    "Inserting a proportional tax in the standard model means that all workers have to pay a tax for each dollar earned. This can both affect the hours worked and the labour force participation. However, we will continue to only look at labour supply on the intensive margin. It is the same utility function as in the standard model. "
   ]
  },
  {
   "cell_type": "markdown",
   "metadata": {},
   "source": [
    "### The budget constraint"
   ]
  },
  {
   "cell_type": "markdown",
   "metadata": {},
   "source": [
    "The budget constraint is now given by:\n",
    "$$C=(1-\\tau)w(T-L) + R,$$\n",
    "where $\\tau$ is the tax rate, $0< \\tau \\leq 1$. Since the tax is proportional to the wage you have to pay more in taxes the more you work (and hence earn)."
   ]
  },
  {
   "cell_type": "markdown",
   "metadata": {},
   "source": [
    "## Solving the model numerically in Python"
   ]
  },
  {
   "cell_type": "markdown",
   "metadata": {},
   "source": [
    "We use the same utility function defined in the standard model without taxation. The new budget constraint is defined below.\n",
    "\n",
    "We set the tax rate equal to 30% ($\\tau=0.30$)."
   ]
  },
  {
   "cell_type": "code",
   "execution_count": 40,
   "metadata": {},
   "outputs": [],
   "source": [
    "# a. defining the new budget constraint with a proportional tax\n",
    "def eq_constraint2(x):\n",
    "    return (1-tau)*w*(T-x[1]) + R - x[0]\n",
    "\n",
    "# b. setting values for T, R, w and tau\n",
    "T=14 # hours available\n",
    "R=200 # non-labour income\n",
    "w=150 # wage rate\n",
    "tau=0.3 # tax rate"
   ]
  },
  {
   "cell_type": "code",
   "execution_count": 42,
   "metadata": {},
   "outputs": [
    {
     "name": "stdout",
     "output_type": "stream",
     "text": [
      "Optimization terminated successfully.    (Exit mode 0)\n",
      "            Current function value: -81.48765608386502\n",
      "            Iterations: 13\n",
      "            Function evaluations: 52\n",
      "            Gradient evaluations: 13\n",
      "\n",
      "(C,L) =  [834.98879454   7.95248767]\n"
     ]
    }
   ],
   "source": [
    "# a. setup\n",
    "eq_con2 = {'type': 'eq', 'fun': eq_constraint2} \n",
    "\n",
    "# b. call optimizer\n",
    "x0 = (5,5) # initial guess (starting point)\n",
    "alpha1 = 0.5 # as defined in the standard model\n",
    "result = optimize.minimize(CD_utility,x0,args=alpha1,\n",
    "                             method='SLSQP',\n",
    "                             bounds=None,\n",
    "                             constraints=eq_con2,\n",
    "                             options={'disp':True})\n",
    "\n",
    "# c. storing the results\n",
    "result_C2 = result.x[0]\n",
    "result_L2 = result.x[1]\n",
    "\n",
    "# d. printing the results\n",
    "print('\\n(C,L) = ',result.x)"
   ]
  },
  {
   "cell_type": "markdown",
   "metadata": {},
   "source": [
    "The results are that the agent consumes 835 and has 7.95 hours of leisure (and work 14 - 7.95 = 6.05 hours).\n",
    "\n",
    "The model with proportional tax results in a lower level of consumption and a higher level of leisure compared to the model without tax. The proportional tax decreases the effective wage rate, which means that the effective opportunity cost of leisure decreases. This will increase the level of leisure when leisure is a normal good. Consumption decreases because total income falls when the effective wage rate decreases."
   ]
  },
  {
   "cell_type": "markdown",
   "metadata": {},
   "source": [
    "# The standard model with progressive income taxation"
   ]
  },
  {
   "cell_type": "markdown",
   "metadata": {},
   "source": [
    "## The model"
   ]
  },
  {
   "cell_type": "markdown",
   "metadata": {},
   "source": [
    "Inserting a progressive tax in the standard model gives us a non-linear budget constraint with varying tax rates depending on how much you work. In this case, you pay a tax rate of zero up to a threshold of certain hours worked and thereafter you pay a positive tax rate on hours worked above that threshold. It is the same utility function as in the standard model. "
   ]
  },
  {
   "cell_type": "markdown",
   "metadata": {},
   "source": [
    "### The budget constraint"
   ]
  },
  {
   "cell_type": "markdown",
   "metadata": {},
   "source": [
    "The budget constraint is now given by:\n",
    "\\\\[\n",
    "\\begin{eqnarray*}\n",
    "C&=&\\begin{cases}\n",
    "(1-\\tau) w (T-L) + R + w \\tau (T - L_{min}) & \\text{for }L \\leq L_{min}\\\\\n",
    "w (T - L) +R & \\text{for }L \\geq L_{min} \n",
    "\\end{cases}\\\\\n",
    "\\end{eqnarray*}\n",
    "\\\\]\n",
    "\n",
    "This budget constraint states that if you work more hours (and spent fewer hours on leisure) than a certain minimum (maximum) the wage earned in those hours of work is taxed. If you work below the certain minimum your budget constraint is as in the standard model."
   ]
  },
  {
   "cell_type": "markdown",
   "metadata": {},
   "source": [
    "## Solving the model numerically using Python"
   ]
  },
  {
   "cell_type": "markdown",
   "metadata": {},
   "source": [
    "We use the same utility function defined in the standard model without taxation. The new budget constraint is defined below.\n",
    "\n",
    "We set the tax rate equal to 70% ($\\tau_{top}=0.70$) and the threshold equal to 8 hours ($L_{min}=8$)."
   ]
  },
  {
   "cell_type": "code",
   "execution_count": 43,
   "metadata": {},
   "outputs": [],
   "source": [
    "# a. define the new budget constraint with a progressive tax\n",
    "def eq_constraint3(x):\n",
    "    if x[1] <= Lmin:\n",
    "        eq_constraint3 = (1-tau)*w*(T-x[1]) + R + w*tau*(T-Lmin) - x[0]\n",
    "    else:\n",
    "        eq_constraint3 = w*(T-x[1]) + R - x[0]\n",
    "    return eq_constraint3\n",
    "\n",
    "# b. setting values for T, R, w, tau_top and Lmin\n",
    "T=14 # hours available\n",
    "R=200 # non-labour income\n",
    "w=150 # wage rate\n",
    "tau_top=0.7 # tax rate\n",
    "Lmin=8 # after 8 hours of work, you will be taxed"
   ]
  },
  {
   "cell_type": "code",
   "execution_count": 44,
   "metadata": {},
   "outputs": [
    {
     "name": "stdout",
     "output_type": "stream",
     "text": [
      "Optimization terminated successfully.    (Exit mode 0)\n",
      "            Current function value: -93.8083146672497\n",
      "            Iterations: 20\n",
      "            Function evaluations: 98\n",
      "            Gradient evaluations: 20\n",
      "\n",
      "(C,L) =  [1099.99985106    8.00000099]\n"
     ]
    }
   ],
   "source": [
    "# a. setup\n",
    "eq_con3 = {'type': 'eq', 'fun': eq_constraint3} \n",
    "\n",
    "# b. call optimizer\n",
    "x0 = (5,5) # initial guess (starting point)\n",
    "alpha1 = 0.5 # as defined in the standard model\n",
    "result = optimize.minimize(CD_utility,x0,args=alpha1,\n",
    "                             method='SLSQP',\n",
    "                             bounds=None,\n",
    "                             constraints=eq_con3,\n",
    "                             options={'disp':True})\n",
    "\n",
    "# c. storing the results\n",
    "result_C3 = result.x[0]\n",
    "result_L3 = result.x[1]\n",
    "\n",
    "# d. print the results\n",
    "print('\\n(C,L) = ',result.x)"
   ]
  },
  {
   "cell_type": "markdown",
   "metadata": {},
   "source": [
    "The results are that the agent consumes 1100 and has 8 hours of leisure (and works 14 - 8 = 6 hours).\n",
    "\n",
    "The model with progressive tax results in a lower level of consumption and about half an hour more leisure compared to the model without tax. Compared to the model with proportional tax, the agent consumes more and spent a little bit more time on leisure.\n",
    "\n",
    "Most developed countries use a progressive tax system meaning high-income agents have a higher marginal tax rate and hence pay more in taxes. In our model, an agent gets a higher income by working more hours as the wage rate is constant. We note that the optional hours of leisure is equal to the threshold. This indicates that the agents are unwilling to work at the high marginal tax rate (even though they would have in absence of the tax). In this case, the agents bunch at the kink earning the highest possible income without having to pay the high marginal tax rate."
   ]
  },
  {
   "cell_type": "markdown",
   "metadata": {},
   "source": [
    "# Summing up"
   ]
  },
  {
   "cell_type": "markdown",
   "metadata": {},
   "source": [
    "In this project we have studied the two-good standard static labour supply model without tax, with a proportional tax and with a progressive tax. In the following we sum up the results by plotting the solutions for the three versions of the model."
   ]
  },
  {
   "cell_type": "markdown",
   "metadata": {},
   "source": [
    "The exogenous variables are the same as they have been throughout the project:"
   ]
  },
  {
   "cell_type": "code",
   "execution_count": 45,
   "metadata": {},
   "outputs": [],
   "source": [
    "T=14\n",
    "R=200\n",
    "w=150\n",
    "alpha1=0.5\n",
    "x0=(5,5)\n",
    "tau = 0.3 #the constant tax rate in the model with proportional tax\n",
    "tau_top = 0.7 #the top tax rate in the model with progressive taxation\n",
    "Lmin=8"
   ]
  },
  {
   "cell_type": "markdown",
   "metadata": {},
   "source": [
    "We start by defining the wage functions for the model without a tax, with a proportional income tax and a progressive income tax."
   ]
  },
  {
   "cell_type": "code",
   "execution_count": 59,
   "metadata": {},
   "outputs": [],
   "source": [
    "def wage(L):\n",
    "    return w\n",
    "\n",
    "def wage_lump(L):\n",
    "    return w*(1-tau)\n",
    "\n",
    "def wage_prog(L):\n",
    "    if L <= Lmin:\n",
    "        return w*(1-tau_top)\n",
    "    else:\n",
    "        return w"
   ]
  },
  {
   "cell_type": "markdown",
   "metadata": {},
   "source": [
    "We define the leisure expenditure function for the model without a tax, with a proportional income tax and a progressive income tax. Note that the leisure expenditure function for the model without a tax and with a proportional income tax only differ because of the different effective wage rate (i.e. we can use the same leisure expenditure function and inserting the different wage rates)."
   ]
  },
  {
   "cell_type": "code",
   "execution_count": 60,
   "metadata": {},
   "outputs": [],
   "source": [
    "def leisureexp(L,wage):\n",
    "    return sp.integrate.quad(wage,0,L)[0]\n",
    "\n",
    "def leisureexp_prog(L,wage): \n",
    "    if L <= Lmin:  \n",
    "        return w*(1-tau_top)*L\n",
    "    else:\n",
    "        return w*(L-Lmin)+w*(1-tau_top)*Lmin"
   ]
  },
  {
   "cell_type": "markdown",
   "metadata": {},
   "source": [
    "Taken into account the different functional forms for the wage function and leisure expenditure function the budget constraint function, utility for optimal consumption bundle and indifference curve can be defined as follows for both the model without a tax, with a proportional income tax and a progressive income tax."
   ]
  },
  {
   "cell_type": "code",
   "execution_count": 61,
   "metadata": {},
   "outputs": [],
   "source": [
    "# a. defining budget constraint\n",
    "def budget(x, wage, maxlabinc, leisureexp):\n",
    "    C=x[0]\n",
    "    L=x[1]\n",
    "    maximum = maxlabinc + R\n",
    "    budget= maximum - leisureexp(L, wage) - C\n",
    "    return  budget\n",
    "\n",
    "def budget_func(wage,maxlabinc,leisureexp):\n",
    "    return {'type':'eq', 'fun':budget, 'args': [wage, maxlabinc,leisureexp]}\n",
    "\n",
    "# b. defining the utility for optimal consumption bundle\n",
    "def max_u(wage, maxlabinc, leisureexp, parameters):\n",
    "    temp = optimize.minimize(CD_utility, x0, args=parameters, method='SLSQP',                      \n",
    "                            constraints=[budget_func(wage, maxlabinc, leisureexp)], options={'disp':False})\n",
    "    return -temp.fun\n",
    "\n",
    "# c. defining the indifference curve\n",
    "def indif_opt(max_u, parameters):\n",
    "    c_indif=lambda L: max_u**(1/parameters)*L**((parameters-1)/parameters)\n",
    "    return [c_indif(x) for x in np.linspace(0.01,14,100)]"
   ]
  },
  {
   "cell_type": "markdown",
   "metadata": {},
   "source": [
    "The following code plots the model without a tax, with a proportional income tax and a progressive income tax, plus the respective solutions."
   ]
  },
  {
   "cell_type": "code",
   "execution_count": 67,
   "metadata": {},
   "outputs": [
    {
     "data": {
      "image/png": "[encoded data removed]",
      "text/plain": [
       "<Figure size 800x400 with 3 Axes>"
      ]
     },
     "metadata": {
      "needs_background": "light"
     },
     "output_type": "display_data"
    }
   ],
   "source": [
    "# Specifying the figure size \n",
    "fig = plt.figure(figsize=(8,4),dpi=100)\n",
    "\n",
    "# A. FIGURE 1 - MODEL WITH NO TAX\n",
    "# i. defining the maximum labour income with no tax\n",
    "maxlabinc=leisureexp(T,wage) \n",
    "\n",
    "# ii. defining the income potential in the model with no tax:\n",
    "maximum = maxlabinc + R\n",
    "\n",
    "# iii. defining the function for the budget line \n",
    "goods = lambda L: maximum -leisureexp(L,wage)\n",
    "cons = [goods(x) for x in np.linspace(0,14,100)]\n",
    "leisure1 = np.linspace(0,14,100)\n",
    "\n",
    "ax1 = fig.add_subplot(2,2,1)\n",
    "\n",
    "# iv. plot the budget line with axis names\n",
    "ax1.plot(leisure1,cons)\n",
    "\n",
    "# v. plotting the indiffence curve \n",
    "ax1.plot(leisure1,indif_opt(max_u=max_u(wage=wage,maxlabinc=maxlabinc,leisureexp=leisureexp,parameters=alpha1),parameters=alpha1))\n",
    "ax1.set_xlabel(\"Leisure\")\n",
    "ax1.set_ylabel(\"Consumption\")\n",
    "ax1.set_title('3A. Labour supply model with no tax')\n",
    "ax1.set_ylim(0,2500)\n",
    "ax1.set_xlim(0,15)\n",
    "plt.plot(result_L1, result_C1, '-ok')\n",
    "\n",
    "# B. FIGURE 2 - MODEL WITH LUMSUMP TAX\n",
    "# i. defining the maximum labour income with no tax\n",
    "maxlabinc_lump=leisureexp(T,wage_lump) \n",
    "\n",
    "# ii. defining the income potential in the model with no tax:\n",
    "maximum_lump = maxlabinc_lump + R\n",
    "\n",
    "# iii. defining the function for the budget line \n",
    "goods_lump = lambda L: maximum_lump -leisureexp(L,wage_lump)\n",
    "cons_lump = [goods_lump(x) for x in np.linspace(0,14,100)]\n",
    "leisure_lump = np.linspace(0,14,100)\n",
    "\n",
    "ax2 = fig.add_subplot(2,2,2)\n",
    "\n",
    "# iv. plot the budget line with axis names\n",
    "ax2.plot(leisure_lump,cons_lump)\n",
    "\n",
    "# v. plotting the indiffence curve \n",
    "ax2.plot(leisure_lump,indif_opt(max_u=max_u(wage=wage_lump,maxlabinc=maxlabinc_lump,leisureexp=leisureexp,parameters=alpha1),parameters=alpha1))\n",
    "ax2.set_xlabel(\"Leisure\")\n",
    "ax2.set_ylabel(\"Consumption\")\n",
    "ax2.set_title('3B. Labour supply model with lumpsum tax')\n",
    "ax2.set_ylim(0,2500)\n",
    "ax2.set_xlim(0,15)\n",
    "plt.plot(result_L2, result_C2, '-ok')\n",
    "\n",
    "# C. FIGURE 3 - MODEL WITH PROGRESSIVE TAX\n",
    "\n",
    "# i. defining the maximum labour income with progressive tax\n",
    "maxlabinc_prog=leisureexp_prog(T,wage_prog) \n",
    "\n",
    "# ii. defining the income potential in the model with progressive tax\n",
    "maximum_prog=maxlabinc_prog + R\n",
    "\n",
    "# iii. define the function for the budget line \n",
    "goods_prog = lambda L: maximum_prog -leisureexp_prog(L,wage_prog)\n",
    "cons_prog = [goods_prog(x) for x in np.linspace(0,14,100)]\n",
    "leisure_prog = np.linspace(0,14,100)\n",
    "\n",
    "ax3 = fig.add_subplot(2,2,3)\n",
    "\n",
    "# iv. plot the budget line with axis names\n",
    "ax3.plot(leisure_prog,cons_prog)\n",
    "\n",
    "# v. plotting the indiffence curve \n",
    "ax3.plot(leisure_prog,indif_opt(max_u=max_u(wage=wage_prog,maxlabinc=maxlabinc_prog,leisureexp=leisureexp_prog,\n",
    "                                            parameters=alpha1),parameters=alpha1))\n",
    "ax3.set_xlabel(\"Leisure\")\n",
    "ax3.set_ylabel(\"Consumption\")\n",
    "ax3.set_title('3C. Labour supply model with progressive tax')\n",
    "ax3.set_ylim(0,2500)\n",
    "ax3.set_xlim(0,15)\n",
    "plt.plot(result_L3, result_C3, '-ok')\n",
    "plt.plot((Lmin,Lmin),(0,goods(Lmin)),'k--')\n",
    "\n",
    "plt.subplots_adjust(top=2.5,right=2)"
   ]
  },
  {
   "cell_type": "markdown",
   "metadata": {},
   "source": [
    "Figure 3A shows the optimal bundle of consumption and leisure in the model without tax. Figure 3B shows the optimal bundle in the model with a proportional tax rate of 30%. This changes the slope of the budget constraint and limits the possible bundles of consumption and leisure for the agent. The proportional tax also decreases the effective wage rate, which means the opportunity cost of leisure decreases. This will increase the level of leisure when leisure is a normal good. From figure 3A and 3B we see that introducing a proportional tax increases hours of leisure with 0.28 hours. Consumption decreases by 315 because total income falls when the effective wage rate decreases. \n",
    "\n",
    "Figure 3C shows the optimal bundle of consumption and leisure in the model with progressive taxation, where the wage for the hours of work above 6 hours (less than 8 hours of leisure) is taxed with 70%. This creates a kink in the budget line at L = 8, which is illustrated by the dashed line in the figure. The progressive tax increases hours of leisure with 0.33 hours compared to the model without tax and 0.05 hours compared to the model with proportional taxation. Consumption is increased by 265 compared to the model with proportional tax, and decrease by 50 compared to the model without taxation. This result indicates that agents are willing to give up a small amount of consumption to not work at the high marginal tax rate (i.e. they bunch at the threshold). According to the literature of taxation effects, this result is a general phenomenon. Agents with $L^*$ just above the threshold tend to bunch at the threshold. Only agents that value consumption a lot more than leisure will continue to consume leisure below the threshold even though they have to pay a higher marginal tax rate. Agents that consume more leisure than the threshold will not be affected by the introduction of a progressive tax system."
   ]
  }
 ],
 "metadata": {
  "kernelspec": {
   "display_name": "Python 3",
   "language": "python",
   "name": "python3"
  },
  "language_info": {
   "codemirror_mode": {
    "name": "ipython",
    "version": 3
   },
   "file_extension": ".py",
   "mimetype": "text/x-python",
   "name": "python",
   "nbconvert_exporter": "python",
   "pygments_lexer": "ipython3",
   "version": "3.7.3"
  }
 },
 "nbformat": 4,
 "nbformat_minor": 2
}

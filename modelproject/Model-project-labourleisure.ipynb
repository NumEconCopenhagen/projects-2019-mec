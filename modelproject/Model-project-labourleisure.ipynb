{
 "cells": [
  {
   "cell_type": "markdown",
   "metadata": {},
   "source": [
    " # The standard static labour supply model"
   ]
  },
  {
   "cell_type": "markdown",
   "metadata": {},
   "source": [
    "In this model project we present and solve the standard static labour supply model.\n",
    "\n",
    "In this standard static labour supply model an individual faces exogenous deterministic wage and non-labor income. The individual get utility from both enjoying leisure and consumption, but have to work and earn wages to be able to consume and to enjoy leisure. This means that the model is a standard maximisation problem, where the individual wishes to maximise utility subject to his/her budget constrain. This maximisation problem is solved in three ways; thoerically, analytically and numerically. For the numerical optimisation, the chosen algorithm  is a sequential (least-squares) quadratic programming (SQP) algorithm (SLSQP). Beside the simple model, we also extend the model in two ways by including a proportional income tax and a progressive income tax. \n",
    "\n",
    "In part 1, we introduce the standard model and solve it theoretical, analytically and by using numerical optimasation in python. In part 2 we add a proportional tax to the standard model and solve the model by using numerical optimasation. In part 3, we add a progressive tax and again solve the model by using numerical optimasation."
   ]
  },
  {
   "cell_type": "markdown",
   "metadata": {},
   "source": [
    "## The model"
   ]
  },
  {
   "cell_type": "markdown",
   "metadata": {},
   "source": [
    "### The general assumptions"
   ]
  },
  {
   "cell_type": "markdown",
   "metadata": {},
   "source": [
    "The agent only get utility from enjoying leisure and consumption\n",
    "\n",
    "The utility function is a standard quasiconcave and monotone utility function: $U(C,L)$ with $U'_C>0$ and $U'_L>0$\n",
    "\n",
    "The individual earn W per hour and the price of the consumption good is P. This means that the real wage can be denoted by $w = W/P$\n",
    "\n",
    "(The individual has non-labor income $\\tilde{R}$, which in real terms will be expressed by $R = \\tilde{R}/P$)"
   ]
  },
  {
   "cell_type": "markdown",
   "metadata": {},
   "source": [
    "### The utility function"
   ]
  },
  {
   "cell_type": "markdown",
   "metadata": {},
   "source": [
    "For simplicity we assume that the utility function has the specific form $$U(C,L)=C^{1/3} L^{2/3}$$"
   ]
  },
  {
   "cell_type": "markdown",
   "metadata": {},
   "source": [
    "### The budget constraint"
   ]
  },
  {
   "cell_type": "markdown",
   "metadata": {},
   "source": [
    "The agent has $L_0$ hours available for consumption, $C$, and leisure, $L$. Hours spend on leisure is hours spend not working, i.e. hours worked is given by $h = L_0 - L$. \n",
    "\n",
    "The budget constraint is given by $$C \\leq wh+R \\implies C \\leq w(L_0 - L) + R$$"
   ]
  },
  {
   "cell_type": "markdown",
   "metadata": {},
   "source": [
    "### The agents maximization problem"
   ]
  },
  {
   "cell_type": "markdown",
   "metadata": {},
   "source": [
    "The agent wishes to maximize $$max_{C,L} U(C,L)=C^{1/3} L^{2/3}$$ subject to $$C \\leq w(L_0 - L) + R$$"
   ]
  },
  {
   "cell_type": "markdown",
   "metadata": {},
   "source": [
    "For simplicity we assume that total hours available ($L_0$) is 24 hours (i.e. we assume that leisure include all activities besides working).\n",
    "\n"
   ]
  },
  {
   "cell_type": "markdown",
   "metadata": {},
   "source": [
    "Since we are only interested in an interior solution we can replace the greater and equal sign with an equality $$C=w(24-L) + R$$"
   ]
  },
  {
   "cell_type": "markdown",
   "metadata": {},
   "source": [
    "## Solving the model theoretically"
   ]
  },
  {
   "cell_type": "markdown",
   "metadata": {},
   "source": [
    "To solve the model theoretically we set up the Lagrange function $$\\mathcal{L}(C,L,\\mu)=C^{1/3} L^{2/3}+\\mu(w(24-L) + R - C)$$"
   ]
  },
  {
   "cell_type": "markdown",
   "metadata": {},
   "source": [
    "The first order conditions are given by $$\\frac{\\partial \\mathcal{L}}{\\partial C} = \\frac{1}{3} C^{-2/3} L^{2/3}-\\mu \\implies \\mu=\\frac{1}{3} C^{-2/3} L^{2/3}$$ $$\\frac{\\partial \\mathcal{L}}{\\partial L} = \\frac{2}{3} C^{1/3} L^{-1/3}-\\mu w \\implies \\mu=\\frac{2 C^{1/3} L^{-1/3}}{3w}$$ $$\\frac{\\partial \\mathcal{L}}{\\partial \\mu} = w(24-L)+R$$"
   ]
  },
  {
   "cell_type": "markdown",
   "metadata": {},
   "source": [
    "Equating the first two first order conditions yields $$\\frac{C^{-2/3} L^{2/3}}{3} =\\frac{2 C^{1/3} L^{-1/3}}{3w}  \\implies C^{-2/3} L^{2/3} =\\frac{2 C^{1/3} L^{-1/3}}{w} \\implies L=\\frac{2C}{w}$$"
   ]
  },
  {
   "cell_type": "markdown",
   "metadata": {},
   "source": [
    "Inserting the expression for L into the third first order condition yields $$C=w(24-\\frac{2C}{w})+R \\implies C=24w-2C+R \\implies 3C=24w+R \\implies C=\\frac{24w+R}{3}$$ "
   ]
  },
  {
   "cell_type": "markdown",
   "metadata": {},
   "source": [
    "Inserting the expression for C into the expression for L $$L = \\frac{2\\frac{24w+R}{3}}{w}=\\frac{48w+2R}{3w}$$"
   ]
  },
  {
   "cell_type": "markdown",
   "metadata": {},
   "source": [
    "This means that the optimal level of C and L is given by $$(C^*,L^*)=(\\frac{24w+R}{3},\\frac{48w+2R}{3w})$$"
   ]
  },
  {
   "cell_type": "markdown",
   "metadata": {},
   "source": [
    "## Solving the model using Python"
   ]
  },
  {
   "cell_type": "code",
   "execution_count": 35,
   "metadata": {},
   "outputs": [],
   "source": [
    "# Import libraries\n",
    "from scipy import optimize,arange\n",
    "import numpy as np\n",
    "import ipywidgets as widgets\n",
    "from scipy import linalg\n",
    "from scipy import optimize\n",
    "import sympy as sm\n",
    "import matplotlib.pyplot as plt\n",
    "import pandas as pd\n",
    "\n",
    "# For pretty printing\n",
    "sm.init_printing(use_unicode=True)"
   ]
  },
  {
   "cell_type": "markdown",
   "metadata": {},
   "source": [
    "### Analytically"
   ]
  },
  {
   "cell_type": "markdown",
   "metadata": {},
   "source": [
    "Defining symbols"
   ]
  },
  {
   "cell_type": "code",
   "execution_count": 36,
   "metadata": {},
   "outputs": [],
   "source": [
    "C = sm.symbols('C') \n",
    "L = sm.symbols('L')\n",
    "R = sm.symbols('R')\n",
    "W = sm.symbols('W')"
   ]
  },
  {
   "cell_type": "markdown",
   "metadata": {},
   "source": [
    "Defining objective function (utility function) and budget constraint:"
   ]
  },
  {
   "cell_type": "code",
   "execution_count": 48,
   "metadata": {},
   "outputs": [],
   "source": [
    "objective = C**(1/3)*L**(2/3)\n",
    "#objective"
   ]
  },
  {
   "cell_type": "code",
   "execution_count": 49,
   "metadata": {},
   "outputs": [],
   "source": [
    "budget_constraint= sm.Eq(W*(24-L) + R,C)\n",
    "#budget_constraint"
   ]
  },
  {
   "cell_type": "markdown",
   "metadata": {},
   "source": [
    "Solving in **four steps**:\n",
    "\n",
    "1. **Isolate** $L$ from the budget constraint\n",
    "2. **Substitute** in $L$\n",
    "3. **Take the derivative** wrt. $C$\n",
    "4. **Solve the FOC** for $C$"
   ]
  },
  {
   "cell_type": "markdown",
   "metadata": {},
   "source": [
    "**Step 1: Isolate**"
   ]
  },
  {
   "cell_type": "code",
   "execution_count": 50,
   "metadata": {},
   "outputs": [],
   "source": [
    "L_from_con = sm.solve(budget_constraint,L)\n",
    "#L_from_con"
   ]
  },
  {
   "cell_type": "markdown",
   "metadata": {},
   "source": [
    "**Step 2: Substitute**"
   ]
  },
  {
   "cell_type": "code",
   "execution_count": 51,
   "metadata": {},
   "outputs": [],
   "source": [
    "objective_subs = objective.subs(L,L_from_con[0])\n",
    "#objective_subs"
   ]
  },
  {
   "cell_type": "markdown",
   "metadata": {},
   "source": [
    "**Step 3: Take the derivative**"
   ]
  },
  {
   "cell_type": "code",
   "execution_count": 52,
   "metadata": {},
   "outputs": [],
   "source": [
    "foc_C = sm.diff(objective_subs,C)\n",
    "#foc_C"
   ]
  },
  {
   "cell_type": "markdown",
   "metadata": {},
   "source": [
    "**Step 3: Solve the FOC**"
   ]
  },
  {
   "cell_type": "code",
   "execution_count": 53,
   "metadata": {},
   "outputs": [],
   "source": [
    "sol_C = sm.solve(sm.Eq(foc_C,0),C)\n",
    "#sol_C"
   ]
  },
  {
   "cell_type": "markdown",
   "metadata": {},
   "source": [
    "Hence, from the theoretical solution we had: $C^* = (1/3)(48W+2R)$ which equals the obtained solution here. \n",
    "\n",
    "Substituting $C^*$ into the expression for L obtained in step 1 yields $L^*$:"
   ]
  },
  {
   "cell_type": "code",
   "execution_count": 54,
   "metadata": {},
   "outputs": [
    {
     "data": {
      "image/png": "[encoded data removed]",
      "text/latex": [
       "$$\\frac{0.666666666666667 R}{W} + 16.0$$"
      ],
      "text/plain": [
       "0.666666666666667⋅R       \n",
       "─────────────────── + 16.0\n",
       "         W                "
      ]
     },
     "execution_count": 54,
     "metadata": {},
     "output_type": "execute_result"
    }
   ],
   "source": [
    "L_star = L_from_con[0].subs(C,sol_C[0])\n",
    "L_star"
   ]
  },
  {
   "cell_type": "markdown",
   "metadata": {},
   "source": [
    "Hence, from the theoretical solution we had: $L^* = \\frac{48w+2R}{3w} = 16+\\frac{2R}{3w}$ which equals the obtained solution here. "
   ]
  },
  {
   "cell_type": "markdown",
   "metadata": {},
   "source": [
    "### Numerically"
   ]
  },
  {
   "cell_type": "markdown",
   "metadata": {},
   "source": [
    "Most estimators require the optimisation (maximisation or minimisation) of some objective function. However, in most cases optimisation problems are too complicated to be solved analytically and therefore we can use numerical optimisation. \n",
    "\n",
    "Numerical optimisation requires the use of an algorithm. The definition of an algorithm is an iterative process that generates a series $x_0,x_1,...,x_n$ that converges to the local minimum (or maximum) $\\hat{x}$. It is defined by a starting point $x_0$ (initial guess), an iterative formula (how to move from $x_n$ to $x_n+1$) and a stopping rule.\n",
    "\n",
    "The iterative formula is the centrepiece of an algorithm as it states how the iterative method update the current estimate of x. \n",
    "\n",
    "In this project, the chosen algorithm for the numerical optimisation is called a sequential (least-squares) quadratic programming (SQP) algorithm (SLSQP). The algorith works well for constrained nonlinear optimization. The drawback is that it is not as efficient as e.g. the BFGS optimisation method. The reason why we use the SLSQP anyway, is due to the extention later on in the project where we have a non-linear budget constraint, and for consistency we have chosen this algorithm for all part of this project."
   ]
  },
  {
   "cell_type": "markdown",
   "metadata": {},
   "source": [
    "We start by define the utility function and the budget constraint as python variables. Further, we also specify a variable for R and W."
   ]
  },
  {
   "cell_type": "code",
   "execution_count": 59,
   "metadata": {},
   "outputs": [],
   "source": [
    "def _utility(C,L):\n",
    "    return -(C**(1/3)*L**(2/3))\n",
    "\n",
    "def utility(x):\n",
    "    return _utility(x[0],x[1])\n",
    "\n",
    "def eq_constraint(x):\n",
    "    return w*(24-x[1]) + R - x[0]\n",
    "\n",
    "R = 200\n",
    "w = 150"
   ]
  },
  {
   "cell_type": "markdown",
   "metadata": {},
   "source": [
    "We have added a minus in front of the utility function above, since we are using scipy.optimize to maximize utility subject to the budget constraint. However, scipy.optimize does only have a minimization attribute, which is the reason we have added a minus in front of the utility function. Further, x[0] correspond to C and x[1] correspond to L. "
   ]
  },
  {
   "cell_type": "code",
   "execution_count": 60,
   "metadata": {},
   "outputs": [
    {
     "name": "stdout",
     "output_type": "stream",
     "text": [
      "Optimization terminated successfully.    (Exit mode 0)\n",
      "            Current function value: -71.22320284362137\n",
      "            Iterations: 16\n",
      "            Function evaluations: 64\n",
      "            Gradient evaluations: 16\n",
      "\n",
      "x =  [1266.68584511   16.88876103]\n"
     ]
    }
   ],
   "source": [
    "# a. setup\n",
    "eq_con = {'type': 'eq', 'fun': eq_constraint} \n",
    "\n",
    "# b. call optimizer\n",
    "x0 = (5,5)\n",
    "result = optimize.minimize(utility,x0,\n",
    "                             method='SLSQP',\n",
    "                             bounds=None,\n",
    "                             constraints=eq_con,\n",
    "                             options={'disp':True})\n",
    "\n",
    "print('\\nx = ',result.x)"
   ]
  },
  {
   "cell_type": "markdown",
   "metadata": {},
   "source": [
    "The numerically solution of the standard static labour supply model is that the agent uses 1266.69 on consumption and 16.89 hours on leisure. "
   ]
  },
  {
   "cell_type": "markdown",
   "metadata": {},
   "source": [
    "We see that the optimal level of consumption and labour is the same as in the theoretical solution if we plot in $R=200$ and $w=150$"
   ]
  },
  {
   "cell_type": "markdown",
   "metadata": {},
   "source": [
    "The effect of changing the wage (and keeping non-labour income constant) on the optimal bundle of consumption level and hours of leisure is shown in the two graphs below. The left figure shows that the wage level has to decrease quite a lot (from 300 to below 100) before the agent start to enjoy substantially more leisure, whereas the right figure shows that consumption increases linearly with the wage level."
   ]
  },
  {
   "cell_type": "code",
   "execution_count": 102,
   "metadata": {},
   "outputs": [],
   "source": [
    "ws = [25, 50, 75, 100, 125, 150, 175, 200, 225, 250, 275, 300]\n",
    "\n",
    "# Choice of L given w\n",
    "L = 5\n",
    "result_L = []\n",
    "\n",
    "for w in ws:\n",
    "    uL = lambda L: -((w*(24-L)+R)**(1/3)*L**(2/3))\n",
    "    result = optimize.minimize(uL,L,method='SLSQP',bounds=None)\n",
    "    result_L.append((result.x[0]))\n",
    "\n",
    "# Choice of C given w \n",
    "C = 5\n",
    "result_C = []\n",
    "\n",
    "for w in ws:\n",
    "    uC = lambda C: -(C**(1/3)*(24+(R-C)/w)**(2/3))\n",
    "    result = optimize.minimize(uC,C,method='SLSQP',bounds=None)\n",
    "    result_C.append((result.x[0]))"
   ]
  },
  {
   "cell_type": "code",
   "execution_count": 103,
   "metadata": {},
   "outputs": [
    {
     "data": {
      "image/png": "[encoded data removed]",
      "text/plain": [
       "<Figure size 800x400 with 2 Axes>"
      ]
     },
     "metadata": {
      "needs_background": "light"
     },
     "output_type": "display_data"
    }
   ],
   "source": [
    "# The figure size\n",
    "fig = plt.figure(figsize=(8,4),dpi=100) \n",
    "\n",
    "# left plot - choice of L given w\n",
    "ax_left = fig.add_subplot(1,2,1)\n",
    "\n",
    "ax_left.plot(result_L,ws)\n",
    "\n",
    "ax_left.set_title('Hours of leisure chosen')\n",
    "ax_left.set_xlabel('$L$')\n",
    "ax_left.set_ylabel('w')\n",
    "ax_left.grid(True)\n",
    "\n",
    "# right plot - choice of C given w\n",
    "ax_right = fig.add_subplot(1,2,2)\n",
    "\n",
    "ax_right.plot(result_C,ws)\n",
    "\n",
    "ax_right.set_title('Consumption level chosen')\n",
    "ax_right.set_xlabel('$C$')\n",
    "ax_right.set_ylabel('$w$')\n",
    "ax_right.grid(True)"
   ]
  },
  {
   "cell_type": "markdown",
   "metadata": {},
   "source": [
    "# The standard model with proportional income taxation"
   ]
  },
  {
   "cell_type": "markdown",
   "metadata": {},
   "source": [
    "## The model"
   ]
  },
  {
   "cell_type": "markdown",
   "metadata": {},
   "source": [
    "Inserting a proportional tax in the stardard model means that all workers have to pay a tax for each dollar earned. This can both affect the hours worked and the labor force participation. "
   ]
  },
  {
   "cell_type": "markdown",
   "metadata": {},
   "source": [
    "### The budget constraint"
   ]
  },
  {
   "cell_type": "markdown",
   "metadata": {},
   "source": [
    "The budget constraint is now given by\n",
    "$$C=(1-\\tau)w(24-L) + R$$\n",
    "This means that you have to pay a certain level of income tax for your whole wage. The more you work, the more taxes you have to pay."
   ]
  },
  {
   "cell_type": "markdown",
   "metadata": {},
   "source": [
    "## Solving the model numerically in Python"
   ]
  },
  {
   "cell_type": "code",
   "execution_count": 71,
   "metadata": {},
   "outputs": [],
   "source": [
    "def _utility2(C,L):\n",
    "    return -(C**(1/3)*L**(2/3))\n",
    "\n",
    "def utility2(x):\n",
    "    return _utility2(x[0],x[1])\n",
    "\n",
    "def eq_constraint2(x):\n",
    "    return (1-tau)*w2*(24-x[1]) + R2 - x[0]\n",
    "\n",
    "R2 = 200\n",
    "w2 = 150\n",
    "tau = 0.3"
   ]
  },
  {
   "cell_type": "code",
   "execution_count": 70,
   "metadata": {},
   "outputs": [
    {
     "name": "stdout",
     "output_type": "stream",
     "text": [
      "Optimization terminated successfully.    (Exit mode 0)\n",
      "            Current function value: -64.66581865340618\n",
      "            Iterations: 15\n",
      "            Function evaluations: 60\n",
      "            Gradient evaluations: 15\n",
      "\n",
      "x =  [906.61365183  17.27034617]\n"
     ]
    }
   ],
   "source": [
    "# a. setup\n",
    "eq_con2 = {'type': 'eq', 'fun': eq_constraint2} \n",
    "\n",
    "# b. call optimizer\n",
    "x0 = (5,5)\n",
    "result = optimize.minimize(utility2,x0,\n",
    "                             method='SLSQP',\n",
    "                             bounds=None,\n",
    "                             constraints=eq_con2,\n",
    "                             options={'disp':True})\n",
    "\n",
    "print('\\nx = ',result.x)"
   ]
  },
  {
   "cell_type": "markdown",
   "metadata": {},
   "source": [
    "The numerically solution of the model with proportional tax  is that the agent uses 906.61 on consumption and 17.27 hours on leisure. When including a proportional tax, we see that the agent work less meaning the agent has less money for consumption but more time for leisure."
   ]
  },
  {
   "cell_type": "markdown",
   "metadata": {},
   "source": [
    "# The standard model with progressive income taxation"
   ]
  },
  {
   "cell_type": "markdown",
   "metadata": {},
   "source": [
    "## The model"
   ]
  },
  {
   "cell_type": "markdown",
   "metadata": {},
   "source": [
    "Incerting a progressive tax in the stardard model gives us as non-linear budget constraint meaning the tax system in non-linear with varying tax rates. In this case you pay zero tax up to a certain income level and thereafter you pay a certain tax for the rest of your income."
   ]
  },
  {
   "cell_type": "markdown",
   "metadata": {},
   "source": [
    "### The budget constraint"
   ]
  },
  {
   "cell_type": "markdown",
   "metadata": {},
   "source": [
    "The budget constraint is now given by\n",
    "\\\\[\n",
    "\\begin{eqnarray*}\n",
    "C&=&\\begin{cases}\n",
    "(1-\\tau) w (24-L) + R + w \\tau (24 - L_{min}) & \\text{for }L \\leq L_{min}\\\\\n",
    "w (24 - L) +R & \\text{for }L \\geq L_{min} \n",
    "\\end{cases}\\\\\n",
    "\\end{eqnarray*}\n",
    "\\\\]\n",
    "\n",
    "This means that if your hours of leisure is below a certain minimum you have to pay income tax. In other words, if you work more hours than a certain minimum your income is taxed. If you work below the certain minimum your budget constraint is as in the standard model."
   ]
  },
  {
   "cell_type": "markdown",
   "metadata": {},
   "source": [
    "## Solving the model numerically using Python"
   ]
  },
  {
   "cell_type": "code",
   "execution_count": 93,
   "metadata": {},
   "outputs": [],
   "source": [
    "def _utility3(C,L):\n",
    "    return -(C**(1/3)*L**(2/3))\n",
    "\n",
    "def utility3(x):\n",
    "    return _utility3(x[0],x[1])\n",
    "\n",
    "def con(x):\n",
    "    if x[1] <= 18:\n",
    "        con = (1-tau2)*w3*(24-x[1]) + R3 + w3*tau2*19 - x[0]\n",
    "    else:\n",
    "        con = w3*(24-x[1]) + R - x[0]\n",
    "    return con\n",
    "\n",
    "R3 = 200\n",
    "w3 = 150\n",
    "tau2 = 0.6"
   ]
  },
  {
   "cell_type": "raw",
   "metadata": {},
   "source": [
    "# a. setup\n",
    "eq_con3 = {'type': 'eq', 'fun': con} \n",
    "\n",
    "# b. call optimizer\n",
    "x0 = (5,5)\n",
    "result = optimize.minimize(utility3,x0,\n",
    "                             method='SLSQP',\n",
    "                             bounds=None,\n",
    "                             constraints=eq_con3,\n",
    "                             options={'disp':True})\n",
    "\n",
    "print('\\nx = ',result.x)"
   ]
  },
  {
   "cell_type": "markdown",
   "metadata": {},
   "source": [
    "The numerical solution of the model with progressive tax is that the agent uses 1099.99 on consumption and 18.00 hours on leisure. Compared to the basic model, we see that the agent work less and earning less meaning the agent has less money for consumption but more time for leisure. Compared to the model including a proportional tax the agent work less but earn more as the agent only pay taxes for some of the income meaning the agent has more money for cuncumption and more time for leisure. "
   ]
  },
  {
   "cell_type": "markdown",
   "metadata": {},
   "source": [
    "# Summing up"
   ]
  },
  {
   "cell_type": "markdown",
   "metadata": {},
   "source": [
    "In this project, we used the the standard static labour supply model. In the first part, the model is presented and the set up explained. The model is solved theoretically and analytically, where the solutions are shown to be the same. Thereafter, the model is solved by using numerical optimisation and the chosen algorithm  is called a sequential (least-squares) quadratic programming (SQP) algorithm (SLSQP). We choose this algorithm as one of our extensions includes a non-linear constraint. The results are that C = 1266.69 and L = 16.89. Further, we visualize the results for different values of the wage rate. In the second part, we extended the model by including a proportional income tax. The results are that C = 906.61 and L = 17.27. In the third part, we extended the model by including a progressive income tax, and the results are that C = 1099.99 and L = 18.00."
   ]
  }
 ],
 "metadata": {
  "kernelspec": {
   "display_name": "Python 3",
   "language": "python",
   "name": "python3"
  },
  "language_info": {
   "codemirror_mode": {
    "name": "ipython",
    "version": 3
   },
   "file_extension": ".py",
   "mimetype": "text/x-python",
   "name": "python",
   "nbconvert_exporter": "python",
   "pygments_lexer": "ipython3",
   "version": "3.7.1"
  }
 },
 "nbformat": 4,
 "nbformat_minor": 2
}

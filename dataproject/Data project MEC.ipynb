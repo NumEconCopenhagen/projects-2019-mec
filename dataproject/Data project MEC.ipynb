{
 "cells": [
  {
   "cell_type": "markdown",
   "metadata": {},
   "source": [
    "# **Data project**\n",
    "***"
   ]
  },
  {
   "cell_type": "markdown",
   "metadata": {},
   "source": [
    "# Introduction"
   ]
  },
  {
   "cell_type": "markdown",
   "metadata": {},
   "source": [
    "This data project addresses the development of home care for the elderly in Denmark. The main focus of the project will be on people aged 65 years and above. The project will look at the number of referral hours to home care in total and divided into whether the recipients have chosen a private or a public supplier. It is a known fact that the share of elders has been growing for the last decade, but at the same time, the number of referral hours to home care has been decreasing. Whether the decreasing number is due to the elderly generally needing less help with personal care and practical tasks or a down-prioritization by the public sector is an interesting discussion, but will remain out of the scope for this project. "
   ]
  },
  {
   "cell_type": "markdown",
   "metadata": {},
   "source": [
    "In Denmark, it is the responsibility of the public sector to take care of the elderly, including providing home care for both personal care and practical tasks. The majority of the public services for the elderly are controlled by the state but supplied by the municipalities. The municipalities can outsource home care to private contractors, who need to live up to a certain level of quality and price. In the end, it is the elderly that choose which supplier they wish to receive help from."
   ]
  },
  {
   "cell_type": "markdown",
   "metadata": {},
   "source": [
    "The data project uses data from Statistics Denmark. Table AED06 shows total recipients referral to home care and hours per week. Table AED12 shows the share of home care provided by private contractors. These two tables can be used to find the number of recipients referral to home care and the number that choose a public/private supplier. Furthermore, table BY2 is used to get data on the entire population. "
   ]
  },
  {
   "cell_type": "markdown",
   "metadata": {},
   "source": [
    "The data project is organized as follows. Section 3 describes the import, cleaning and structuring of the data used in the project. Section 4 presents a graphical analysis and a map, and lastly, section 5 concludes on the project."
   ]
  },
  {
   "cell_type": "markdown",
   "metadata": {},
   "source": [
    "# Data import, cleaning and structuring"
   ]
  },
  {
   "cell_type": "markdown",
   "metadata": {},
   "source": [
    "## Importing relevant packages"
   ]
  },
  {
   "cell_type": "markdown",
   "metadata": {},
   "source": [
    "Importing useful packages for the project: "
   ]
  },
  {
   "cell_type": "code",
   "execution_count": 37,
   "metadata": {},
   "outputs": [],
   "source": [
    "# importing useful packages\n",
    "import numpy as np\n",
    "import matplotlib.pyplot as plt\n",
    "import pandas as pd\n",
    "import ipywidgets as widgets"
   ]
  },
  {
   "cell_type": "markdown",
   "metadata": {},
   "source": [
    "As already mentioned, we are going to use data from Statistics Denmark. Instead of going to their website to download their data in Excel format and then import it to Python, we choose to use an API (Application Programming Interface) to fetch the data. "
   ]
  },
  {
   "cell_type": "code",
   "execution_count": 38,
   "metadata": {},
   "outputs": [],
   "source": [
    "# importing a package that allow to extract data from Statistics Denmark (DST) \n",
    "import pydst\n",
    "dst = dst = pydst.Dst(lang='en')"
   ]
  },
  {
   "cell_type": "code",
   "execution_count": 39,
   "metadata": {},
   "outputs": [],
   "source": [
    "# importing a package that allow to make a map of Denmark\n",
    "import geopandas as gpd"
   ]
  },
  {
   "cell_type": "markdown",
   "metadata": {},
   "source": [
    "*Note, that the two packages* `pydst` *and* `geopandas` *are not default packages in python, and hence, one need to install those in order to be able to run the code in this notebook.*\n",
    "\n",
    "- *To install* `pydst` (works for both windows and mac)*: open terminal and run the command: pip install git+https://github.com/elben10/pydst*\n",
    "- *To install* `geopandas`: \n",
    "    - *Windows: open terminal and run the command: conda install -c conda-forge geopandas*\n",
    "    - *Mac: open terminal*\n",
    "        1. Run the command: conda install -c conda-forge geopandas\n",
    "        2. Uninstall fiona by running the command: conda uninstall fiona\n",
    "        3. Download fiona wheel and install: can be downloaded from here (https://pypi.python.org/packages/71/ea/908bf078499b30d1ec374eb5baba016a568fc8142ee6ccf72e356d20871c/Fiona-1.7.4-cp27-cp27m-macosx_10_6_intel.whl#md5=971393c23ffc552664b7c694b992fb3e) and run: pip install Fiona-1.7.4-cp27-cp27m-macosx_10_6_intel.whl\n",
    "        4. Reinstall geopandas by running the command: pip install git+git://github.com/geopandas/geopandas.git\n",
    "        \n",
    "**NOTE: We only use `geopandas` to make it easier to compare municipalities at a given point in time. We have another interactive figure (that do not require `geopandas`) where it is possible to see the development over time in each of municipality. Comparing the level across municipalities is also possible, but not as easy**"
   ]
  },
  {
   "cell_type": "markdown",
   "metadata": {},
   "source": [
    "## Importing data on referral hours from Statistics Denmark"
   ]
  },
  {
   "cell_type": "markdown",
   "metadata": {},
   "source": [
    "The first step is to import the relevant data. We need information on the total, public and private referral hours to home care. Statistics Denmark has a data set including total referral hours to home care (AED06) and a data set including the shar of privately provided referral hours (AED12)."
   ]
  },
  {
   "cell_type": "markdown",
   "metadata": {},
   "source": [
    "We start by getting an overview of the variables by using the `get_variables()`. The function lists all the values that can be attained in the desired table \"*Recipients referral to home care, free choice, by region, type of benefits, hours per week, age and sex (2008-2017)*\" (AED06). It can also be found here: http://statistikbanken.dk/statbank5a/default.asp?w=1368. "
   ]
  },
  {
   "cell_type": "code",
   "execution_count": 4,
   "metadata": {},
   "outputs": [
    {
     "data": {
      "text/html": [
       "<div>\n",
       "<style scoped>\n",
       "    .dataframe tbody tr th:only-of-type {\n",
       "        vertical-align: middle;\n",
       "    }\n",
       "\n",
       "    .dataframe tbody tr th {\n",
       "        vertical-align: top;\n",
       "    }\n",
       "\n",
       "    .dataframe thead th {\n",
       "        text-align: right;\n",
       "    }\n",
       "</style>\n",
       "<table border=\"1\" class=\"dataframe\">\n",
       "  <thead>\n",
       "    <tr style=\"text-align: right;\">\n",
       "      <th></th>\n",
       "      <th>elimination</th>\n",
       "      <th>id</th>\n",
       "      <th>map</th>\n",
       "      <th>text</th>\n",
       "      <th>time</th>\n",
       "      <th>values</th>\n",
       "    </tr>\n",
       "  </thead>\n",
       "  <tbody>\n",
       "    <tr>\n",
       "      <th>0</th>\n",
       "      <td>True</td>\n",
       "      <td>OMRÅDE</td>\n",
       "      <td>denmark_municipality_07</td>\n",
       "      <td>region</td>\n",
       "      <td>False</td>\n",
       "      <td>[{'id': '000', 'text': 'All Denmark'}, {'id': ...</td>\n",
       "    </tr>\n",
       "    <tr>\n",
       "      <th>1</th>\n",
       "      <td>True</td>\n",
       "      <td>YDELSESTYPE</td>\n",
       "      <td>NaN</td>\n",
       "      <td>type of benefits</td>\n",
       "      <td>False</td>\n",
       "      <td>[{'id': '100', 'text': 'Permanent home help, t...</td>\n",
       "    </tr>\n",
       "    <tr>\n",
       "      <th>2</th>\n",
       "      <td>True</td>\n",
       "      <td>TIMEUGE</td>\n",
       "      <td>NaN</td>\n",
       "      <td>hours per week</td>\n",
       "      <td>False</td>\n",
       "      <td>[{'id': '050', 'text': 'Total duration'}, {'id...</td>\n",
       "    </tr>\n",
       "    <tr>\n",
       "      <th>3</th>\n",
       "      <td>True</td>\n",
       "      <td>ALDER</td>\n",
       "      <td>NaN</td>\n",
       "      <td>age</td>\n",
       "      <td>False</td>\n",
       "      <td>[{'id': '050', 'text': 'Total'}, {'id': '100',...</td>\n",
       "    </tr>\n",
       "    <tr>\n",
       "      <th>4</th>\n",
       "      <td>True</td>\n",
       "      <td>KOEN</td>\n",
       "      <td>NaN</td>\n",
       "      <td>sex</td>\n",
       "      <td>False</td>\n",
       "      <td>[{'id': '100', 'text': 'Males and women, total...</td>\n",
       "    </tr>\n",
       "    <tr>\n",
       "      <th>5</th>\n",
       "      <td>False</td>\n",
       "      <td>Tid</td>\n",
       "      <td>NaN</td>\n",
       "      <td>time</td>\n",
       "      <td>True</td>\n",
       "      <td>[{'id': '2008', 'text': '2008'}, {'id': '2009'...</td>\n",
       "    </tr>\n",
       "  </tbody>\n",
       "</table>\n",
       "</div>"
      ],
      "text/plain": [
       "   elimination           id                      map              text   time  \\\n",
       "0         True       OMRÅDE  denmark_municipality_07            region  False   \n",
       "1         True  YDELSESTYPE                      NaN  type of benefits  False   \n",
       "2         True      TIMEUGE                      NaN    hours per week  False   \n",
       "3         True        ALDER                      NaN               age  False   \n",
       "4         True         KOEN                      NaN               sex  False   \n",
       "5        False          Tid                      NaN              time   True   \n",
       "\n",
       "                                              values  \n",
       "0  [{'id': '000', 'text': 'All Denmark'}, {'id': ...  \n",
       "1  [{'id': '100', 'text': 'Permanent home help, t...  \n",
       "2  [{'id': '050', 'text': 'Total duration'}, {'id...  \n",
       "3  [{'id': '050', 'text': 'Total'}, {'id': '100',...  \n",
       "4  [{'id': '100', 'text': 'Males and women, total...  \n",
       "5  [{'id': '2008', 'text': '2008'}, {'id': '2009'...  "
      ]
     },
     "execution_count": 4,
     "metadata": {},
     "output_type": "execute_result"
    }
   ],
   "source": [
    "# importing total referral hours\n",
    "totalhours_vars = dst.get_variables(table_id = 'AED06')\n",
    "totalhours_vars"
   ]
  },
  {
   "cell_type": "markdown",
   "metadata": {},
   "source": [
    "Now, the same approach is taken to get an overview of the table: \"*Recipients referral to home care, free choice, who use private contractor by region, type of benefits, age and sex (2008-2017)*\" (AED12). "
   ]
  },
  {
   "cell_type": "code",
   "execution_count": 5,
   "metadata": {},
   "outputs": [
    {
     "data": {
      "text/html": [
       "<div>\n",
       "<style scoped>\n",
       "    .dataframe tbody tr th:only-of-type {\n",
       "        vertical-align: middle;\n",
       "    }\n",
       "\n",
       "    .dataframe tbody tr th {\n",
       "        vertical-align: top;\n",
       "    }\n",
       "\n",
       "    .dataframe thead th {\n",
       "        text-align: right;\n",
       "    }\n",
       "</style>\n",
       "<table border=\"1\" class=\"dataframe\">\n",
       "  <thead>\n",
       "    <tr style=\"text-align: right;\">\n",
       "      <th></th>\n",
       "      <th>elimination</th>\n",
       "      <th>id</th>\n",
       "      <th>map</th>\n",
       "      <th>text</th>\n",
       "      <th>time</th>\n",
       "      <th>values</th>\n",
       "    </tr>\n",
       "  </thead>\n",
       "  <tbody>\n",
       "    <tr>\n",
       "      <th>0</th>\n",
       "      <td>True</td>\n",
       "      <td>OMRÅDE</td>\n",
       "      <td>denmark_municipality_07</td>\n",
       "      <td>region</td>\n",
       "      <td>False</td>\n",
       "      <td>[{'id': '000', 'text': 'All Denmark'}, {'id': ...</td>\n",
       "    </tr>\n",
       "    <tr>\n",
       "      <th>1</th>\n",
       "      <td>True</td>\n",
       "      <td>YDELSESTYPE</td>\n",
       "      <td>NaN</td>\n",
       "      <td>type of benefits</td>\n",
       "      <td>False</td>\n",
       "      <td>[{'id': '100', 'text': 'Permanent home help, t...</td>\n",
       "    </tr>\n",
       "    <tr>\n",
       "      <th>2</th>\n",
       "      <td>True</td>\n",
       "      <td>ALDER</td>\n",
       "      <td>NaN</td>\n",
       "      <td>age</td>\n",
       "      <td>False</td>\n",
       "      <td>[{'id': '050', 'text': 'Total'}, {'id': '100',...</td>\n",
       "    </tr>\n",
       "    <tr>\n",
       "      <th>3</th>\n",
       "      <td>True</td>\n",
       "      <td>KOEN</td>\n",
       "      <td>NaN</td>\n",
       "      <td>sex</td>\n",
       "      <td>False</td>\n",
       "      <td>[{'id': '100', 'text': 'Males and women, total...</td>\n",
       "    </tr>\n",
       "    <tr>\n",
       "      <th>4</th>\n",
       "      <td>False</td>\n",
       "      <td>Tid</td>\n",
       "      <td>NaN</td>\n",
       "      <td>time</td>\n",
       "      <td>True</td>\n",
       "      <td>[{'id': '2008', 'text': '2008'}, {'id': '2009'...</td>\n",
       "    </tr>\n",
       "  </tbody>\n",
       "</table>\n",
       "</div>"
      ],
      "text/plain": [
       "   elimination           id                      map              text   time  \\\n",
       "0         True       OMRÅDE  denmark_municipality_07            region  False   \n",
       "1         True  YDELSESTYPE                      NaN  type of benefits  False   \n",
       "2         True        ALDER                      NaN               age  False   \n",
       "3         True         KOEN                      NaN               sex  False   \n",
       "4        False          Tid                      NaN              time   True   \n",
       "\n",
       "                                              values  \n",
       "0  [{'id': '000', 'text': 'All Denmark'}, {'id': ...  \n",
       "1  [{'id': '100', 'text': 'Permanent home help, t...  \n",
       "2  [{'id': '050', 'text': 'Total'}, {'id': '100',...  \n",
       "3  [{'id': '100', 'text': 'Males and women, total...  \n",
       "4  [{'id': '2008', 'text': '2008'}, {'id': '2009'...  "
      ]
     },
     "execution_count": 5,
     "metadata": {},
     "output_type": "execute_result"
    }
   ],
   "source": [
    "# importing the share of privately provided referral hours\n",
    "privateshare_vars = dst.get_variables(table_id = 'AED12')\n",
    "privateshare_vars"
   ]
  },
  {
   "cell_type": "markdown",
   "metadata": {},
   "source": [
    "## Cleaning and structuring data on referral hours"
   ]
  },
  {
   "cell_type": "markdown",
   "metadata": {},
   "source": [
    "In order to fetch the data we use `get_data()`. The function allows us to choose the desired variables from the original table, and further restrict the data on several conditions listed below.  \n",
    "With data from table AED06 containing total referral hours to home care, we generate two dataframes. Common for both of them is that we restrict it to only include *Permanent home help, total* (100), which states the total number of referral hours to home care per week. In order to find the underlying value of *Permanent home help, total* we use a function that extracts the second element of the variable *values* from the data set *totalhours_vars*. This is found to be 100, which can be seen in the output below. "
   ]
  },
  {
   "cell_type": "code",
   "execution_count": 6,
   "metadata": {},
   "outputs": [
    {
     "data": {
      "text/plain": [
       "[{'id': '100', 'text': 'Permanent home help, total'},\n",
       " {'id': '200', 'text': 'Personal care'},\n",
       " {'id': '300', 'text': 'Help on necessary practical duties'},\n",
       " {'id': '400',\n",
       "  'text': 'Both personal care and help on necessary practical duties'}]"
      ]
     },
     "execution_count": 6,
     "metadata": {},
     "output_type": "execute_result"
    }
   ],
   "source": [
    "totalhours_vars['values'][1]"
   ]
  },
  {
   "cell_type": "markdown",
   "metadata": {},
   "source": [
    "Using the method we restrict the data to include ages *65 years and above* (200-800) and both *men and women* (100). For one of the two dataframes we only keep the country level (000) and for the other, we only keep the municipality level (i.e. we remove observations on country and regional level). The time period is restricted to 2010-2017. We also rename a few of the variables and remove missing observations for some municipalities. Lastly, we convert our variables of interest, namely the hours of home care to a numeric variable. "
   ]
  },
  {
   "cell_type": "code",
   "execution_count": 7,
   "metadata": {},
   "outputs": [],
   "source": [
    "# a. defining dictionary to rename variables\n",
    "col_dict1 = {} \n",
    "col_dict1['TID'] = 'year'\n",
    "col_dict1['INDHOLD'] = 'home_help_total'\n",
    "col_dict1['OMRÅDE'] = 'geo_area'\n",
    "col_dict1['ALDER'] = 'age'\n",
    "\n",
    "# b. load data \n",
    "totalhours_denmark = dst.get_data(table_id = 'AED06', variables={'OMRÅDE':['000'], 'YDELSESTYPE':['100'], \n",
    "                                                      'ALDER':['200','300','400','500','600','700','800'], 'KOEN':['100'], \n",
    "                                                      'Tid':['2010','2011','2012','2013','2014','2015','2016','2017']})\n",
    "totalhours_municipality = dst.get_data(table_id = 'AED06', variables={'OMRÅDE':['*'], 'YDELSESTYPE':['100'], \n",
    "                                                      'ALDER':['200','300','400','500','600','700','800'], 'KOEN':['100'], \n",
    "                                                      'Tid':['2010','2011','2012','2013','2014','2015','2016','2017']})\n",
    "\n",
    "# c. renaming and dropping variables\n",
    "totalhours_denmark.rename(columns=col_dict1, inplace=True)\n",
    "totalhours_denmark.drop(['YDELSESTYPE', 'KOEN', 'TIMEUGE'], axis=1, inplace=True)\n",
    "\n",
    "totalhours_municipality.rename(columns=col_dict1, inplace=True)\n",
    "totalhours_municipality.drop(['YDELSESTYPE', 'KOEN', 'TIMEUGE'], axis=1, inplace=True)\n",
    "\n",
    "# d. removing missing observations \n",
    "totalhours_municipality = totalhours_municipality[totalhours_municipality.home_help_total !=\"..\"]\n",
    "\n",
    "# e. removing observations on country and regional level in the municipality dataset\n",
    "for val in ['Region', 'All Denmark']: \n",
    "    I = totalhours_municipality.geo_area.str.contains(val)\n",
    "    totalhours_municipality = totalhours_municipality.loc[I == False] \n",
    "\n",
    "# f. convert values to numeric\n",
    "totalhours_denmark.home_help_total=totalhours_denmark.home_help_total.astype('float')\n",
    "totalhours_municipality.home_help_total=totalhours_municipality.home_help_total.astype('float')\n",
    "\n",
    "# g. multiplying with 52 as there is 52 weeks in a year\n",
    "totalhours_denmark.home_help_total=totalhours_denmark.home_help_total*52\n",
    "totalhours_municipality.home_help_total=totalhours_municipality.home_help_total*52"
   ]
  },
  {
   "cell_type": "markdown",
   "metadata": {},
   "source": [
    "Now, the data set for all Denmark on the total referral hours to home care looks like the table below:"
   ]
  },
  {
   "cell_type": "code",
   "execution_count": 10,
   "metadata": {},
   "outputs": [
    {
     "data": {
      "text/html": [
       "<div>\n",
       "<style scoped>\n",
       "    .dataframe tbody tr th:only-of-type {\n",
       "        vertical-align: middle;\n",
       "    }\n",
       "\n",
       "    .dataframe tbody tr th {\n",
       "        vertical-align: top;\n",
       "    }\n",
       "\n",
       "    .dataframe thead th {\n",
       "        text-align: right;\n",
       "    }\n",
       "</style>\n",
       "<table border=\"1\" class=\"dataframe\">\n",
       "  <thead>\n",
       "    <tr style=\"text-align: right;\">\n",
       "      <th></th>\n",
       "      <th>geo_area</th>\n",
       "      <th>age</th>\n",
       "      <th>year</th>\n",
       "      <th>home_help_total</th>\n",
       "    </tr>\n",
       "  </thead>\n",
       "  <tbody>\n",
       "    <tr>\n",
       "      <th>0</th>\n",
       "      <td>All Denmark</td>\n",
       "      <td>65-66 years</td>\n",
       "      <td>2010</td>\n",
       "      <td>240245.2</td>\n",
       "    </tr>\n",
       "    <tr>\n",
       "      <th>1</th>\n",
       "      <td>All Denmark</td>\n",
       "      <td>67-69 years</td>\n",
       "      <td>2010</td>\n",
       "      <td>393052.4</td>\n",
       "    </tr>\n",
       "    <tr>\n",
       "      <th>2</th>\n",
       "      <td>All Denmark</td>\n",
       "      <td>70-74 years</td>\n",
       "      <td>2010</td>\n",
       "      <td>858431.6</td>\n",
       "    </tr>\n",
       "    <tr>\n",
       "      <th>3</th>\n",
       "      <td>All Denmark</td>\n",
       "      <td>75-79 years</td>\n",
       "      <td>2010</td>\n",
       "      <td>1370163.6</td>\n",
       "    </tr>\n",
       "    <tr>\n",
       "      <th>4</th>\n",
       "      <td>All Denmark</td>\n",
       "      <td>80-84 years</td>\n",
       "      <td>2010</td>\n",
       "      <td>1873320.8</td>\n",
       "    </tr>\n",
       "  </tbody>\n",
       "</table>\n",
       "</div>"
      ],
      "text/plain": [
       "      geo_area          age  year  home_help_total\n",
       "0  All Denmark  65-66 years  2010         240245.2\n",
       "1  All Denmark  67-69 years  2010         393052.4\n",
       "2  All Denmark  70-74 years  2010         858431.6\n",
       "3  All Denmark  75-79 years  2010        1370163.6\n",
       "4  All Denmark  80-84 years  2010        1873320.8"
      ]
     },
     "execution_count": 10,
     "metadata": {},
     "output_type": "execute_result"
    }
   ],
   "source": [
    "totalhours_denmark.head(5)"
   ]
  },
  {
   "cell_type": "markdown",
   "metadata": {},
   "source": [
    "And likewise, the data set for the total referral hours to home care on the municipality level looks like the table below:"
   ]
  },
  {
   "cell_type": "code",
   "execution_count": 11,
   "metadata": {},
   "outputs": [
    {
     "data": {
      "text/html": [
       "<div>\n",
       "<style scoped>\n",
       "    .dataframe tbody tr th:only-of-type {\n",
       "        vertical-align: middle;\n",
       "    }\n",
       "\n",
       "    .dataframe tbody tr th {\n",
       "        vertical-align: top;\n",
       "    }\n",
       "\n",
       "    .dataframe thead th {\n",
       "        text-align: right;\n",
       "    }\n",
       "</style>\n",
       "<table border=\"1\" class=\"dataframe\">\n",
       "  <thead>\n",
       "    <tr style=\"text-align: right;\">\n",
       "      <th></th>\n",
       "      <th>geo_area</th>\n",
       "      <th>age</th>\n",
       "      <th>year</th>\n",
       "      <th>home_help_total</th>\n",
       "    </tr>\n",
       "  </thead>\n",
       "  <tbody>\n",
       "    <tr>\n",
       "      <th>0</th>\n",
       "      <td>Egedal</td>\n",
       "      <td>67-69 years</td>\n",
       "      <td>2010</td>\n",
       "      <td>1944.8</td>\n",
       "    </tr>\n",
       "    <tr>\n",
       "      <th>1</th>\n",
       "      <td>Egedal</td>\n",
       "      <td>70-74 years</td>\n",
       "      <td>2010</td>\n",
       "      <td>4487.6</td>\n",
       "    </tr>\n",
       "    <tr>\n",
       "      <th>2</th>\n",
       "      <td>Egedal</td>\n",
       "      <td>75-79 years</td>\n",
       "      <td>2010</td>\n",
       "      <td>6474.0</td>\n",
       "    </tr>\n",
       "    <tr>\n",
       "      <th>3</th>\n",
       "      <td>Egedal</td>\n",
       "      <td>80-84 years</td>\n",
       "      <td>2010</td>\n",
       "      <td>6630.0</td>\n",
       "    </tr>\n",
       "    <tr>\n",
       "      <th>4</th>\n",
       "      <td>Egedal</td>\n",
       "      <td>85-89 years</td>\n",
       "      <td>2010</td>\n",
       "      <td>4264.0</td>\n",
       "    </tr>\n",
       "  </tbody>\n",
       "</table>\n",
       "</div>"
      ],
      "text/plain": [
       "  geo_area          age  year  home_help_total\n",
       "0   Egedal  67-69 years  2010           1944.8\n",
       "1   Egedal  70-74 years  2010           4487.6\n",
       "2   Egedal  75-79 years  2010           6474.0\n",
       "3   Egedal  80-84 years  2010           6630.0\n",
       "4   Egedal  85-89 years  2010           4264.0"
      ]
     },
     "execution_count": 11,
     "metadata": {},
     "output_type": "execute_result"
    }
   ],
   "source": [
    "totalhours_municipality.head(5)"
   ]
  },
  {
   "cell_type": "markdown",
   "metadata": {},
   "source": [
    "The same approach is taken for the data from AED12 containing the private share of referral hours to home care. We generate two dataframes, where we restrict both of them to only include *the fraction of privately supplied home care* (100), only ages *65 years and above* (200-800) and both *men and women* (100). For one of the two dataframes we only keep the country level (000) and for the other, we only keep the municipality level (i.e. we remove observations on country and regional level). The time period is restricted to 2010-2017. We also rename a few of the variables and remove missing observations for some municipalities. Lastly, we convert our variables of interest, namely the hours of home care to a numeric variable. "
   ]
  },
  {
   "cell_type": "code",
   "execution_count": 12,
   "metadata": {},
   "outputs": [],
   "source": [
    "# a. defining dictionary to rename variables\n",
    "col_dict2 = {} \n",
    "col_dict2['TID'] = 'year'\n",
    "col_dict2['INDHOLD'] = 'frac_private'\n",
    "col_dict2['OMRÅDE'] = 'geo_area'\n",
    "col_dict2['ALDER'] = 'age'\n",
    "\n",
    "# b. load data \n",
    "privateshare_denmark = dst.get_data(table_id = 'AED12', variables={'OMRÅDE':['000'], 'YDELSESTYPE':['100'], \n",
    "                                                      'ALDER':['200','300','400','500','600','700','800'], 'KOEN':['100'], \n",
    "                                                      'Tid':['2010','2011','2012','2013','2014','2015','2016','2017']})\n",
    "privateshare_municipality = dst.get_data(table_id = 'AED12', variables={'OMRÅDE':['*'], 'YDELSESTYPE':['100'], \n",
    "                                                      'ALDER':['200','300','400','500','600','700','800'], 'KOEN':['100'], \n",
    "                                                      'Tid':['2010','2011','2012','2013','2014','2015','2016','2017']})\n",
    "\n",
    "# c. renaming and dropping variables\n",
    "privateshare_denmark.rename(columns=col_dict2, inplace=True)\n",
    "privateshare_denmark.drop(['YDELSESTYPE', 'KOEN'], axis=1, inplace=True)\n",
    "\n",
    "privateshare_municipality.rename(columns=col_dict2, inplace=True)\n",
    "privateshare_municipality.drop(['YDELSESTYPE', 'KOEN'], axis=1, inplace=True)\n",
    "\n",
    "# d. removing missing observations \n",
    "privateshare_municipality = privateshare_municipality[privateshare_municipality.frac_private !=\"..\"]\n",
    "\n",
    "# e. removing observations on country and regional level\n",
    "for val in ['Region', 'All Denmark']: \n",
    "    I = privateshare_municipality.geo_area.str.contains(val)\n",
    "    privateshare_municipality = privateshare_municipality.loc[I == False] \n",
    "    \n",
    "# f. convert values to numeric\n",
    "privateshare_denmark.frac_private=privateshare_denmark.frac_private.astype('float')\n",
    "privateshare_municipality.frac_private=privateshare_municipality.frac_private.astype('float')"
   ]
  },
  {
   "cell_type": "markdown",
   "metadata": {},
   "source": [
    "Now, the data set for all Denmark on the privat share of referral hours look like the table below:"
   ]
  },
  {
   "cell_type": "code",
   "execution_count": 13,
   "metadata": {},
   "outputs": [
    {
     "data": {
      "text/html": [
       "<div>\n",
       "<style scoped>\n",
       "    .dataframe tbody tr th:only-of-type {\n",
       "        vertical-align: middle;\n",
       "    }\n",
       "\n",
       "    .dataframe tbody tr th {\n",
       "        vertical-align: top;\n",
       "    }\n",
       "\n",
       "    .dataframe thead th {\n",
       "        text-align: right;\n",
       "    }\n",
       "</style>\n",
       "<table border=\"1\" class=\"dataframe\">\n",
       "  <thead>\n",
       "    <tr style=\"text-align: right;\">\n",
       "      <th></th>\n",
       "      <th>geo_area</th>\n",
       "      <th>age</th>\n",
       "      <th>year</th>\n",
       "      <th>frac_private</th>\n",
       "    </tr>\n",
       "  </thead>\n",
       "  <tbody>\n",
       "    <tr>\n",
       "      <th>0</th>\n",
       "      <td>All Denmark</td>\n",
       "      <td>65-66 years</td>\n",
       "      <td>2010</td>\n",
       "      <td>29.3</td>\n",
       "    </tr>\n",
       "    <tr>\n",
       "      <th>1</th>\n",
       "      <td>All Denmark</td>\n",
       "      <td>67-69 years</td>\n",
       "      <td>2010</td>\n",
       "      <td>31.1</td>\n",
       "    </tr>\n",
       "    <tr>\n",
       "      <th>2</th>\n",
       "      <td>All Denmark</td>\n",
       "      <td>70-74 years</td>\n",
       "      <td>2010</td>\n",
       "      <td>32.1</td>\n",
       "    </tr>\n",
       "    <tr>\n",
       "      <th>3</th>\n",
       "      <td>All Denmark</td>\n",
       "      <td>75-79 years</td>\n",
       "      <td>2010</td>\n",
       "      <td>33.1</td>\n",
       "    </tr>\n",
       "    <tr>\n",
       "      <th>4</th>\n",
       "      <td>All Denmark</td>\n",
       "      <td>80-84 years</td>\n",
       "      <td>2010</td>\n",
       "      <td>32.2</td>\n",
       "    </tr>\n",
       "  </tbody>\n",
       "</table>\n",
       "</div>"
      ],
      "text/plain": [
       "      geo_area          age  year  frac_private\n",
       "0  All Denmark  65-66 years  2010          29.3\n",
       "1  All Denmark  67-69 years  2010          31.1\n",
       "2  All Denmark  70-74 years  2010          32.1\n",
       "3  All Denmark  75-79 years  2010          33.1\n",
       "4  All Denmark  80-84 years  2010          32.2"
      ]
     },
     "execution_count": 13,
     "metadata": {},
     "output_type": "execute_result"
    }
   ],
   "source": [
    "privateshare_denmark.head(5)"
   ]
  },
  {
   "cell_type": "markdown",
   "metadata": {},
   "source": [
    "And likewise, the data set on the private share of referral hours on the municipality level look like the table below:"
   ]
  },
  {
   "cell_type": "code",
   "execution_count": 14,
   "metadata": {},
   "outputs": [
    {
     "data": {
      "text/html": [
       "<div>\n",
       "<style scoped>\n",
       "    .dataframe tbody tr th:only-of-type {\n",
       "        vertical-align: middle;\n",
       "    }\n",
       "\n",
       "    .dataframe tbody tr th {\n",
       "        vertical-align: top;\n",
       "    }\n",
       "\n",
       "    .dataframe thead th {\n",
       "        text-align: right;\n",
       "    }\n",
       "</style>\n",
       "<table border=\"1\" class=\"dataframe\">\n",
       "  <thead>\n",
       "    <tr style=\"text-align: right;\">\n",
       "      <th></th>\n",
       "      <th>geo_area</th>\n",
       "      <th>age</th>\n",
       "      <th>year</th>\n",
       "      <th>frac_private</th>\n",
       "    </tr>\n",
       "  </thead>\n",
       "  <tbody>\n",
       "    <tr>\n",
       "      <th>0</th>\n",
       "      <td>Assens</td>\n",
       "      <td>65-66 years</td>\n",
       "      <td>2010</td>\n",
       "      <td>11.4</td>\n",
       "    </tr>\n",
       "    <tr>\n",
       "      <th>1</th>\n",
       "      <td>Assens</td>\n",
       "      <td>67-69 years</td>\n",
       "      <td>2010</td>\n",
       "      <td>11.7</td>\n",
       "    </tr>\n",
       "    <tr>\n",
       "      <th>2</th>\n",
       "      <td>Assens</td>\n",
       "      <td>70-74 years</td>\n",
       "      <td>2010</td>\n",
       "      <td>9.7</td>\n",
       "    </tr>\n",
       "    <tr>\n",
       "      <th>3</th>\n",
       "      <td>Assens</td>\n",
       "      <td>75-79 years</td>\n",
       "      <td>2010</td>\n",
       "      <td>10.3</td>\n",
       "    </tr>\n",
       "    <tr>\n",
       "      <th>4</th>\n",
       "      <td>Assens</td>\n",
       "      <td>80-84 years</td>\n",
       "      <td>2010</td>\n",
       "      <td>6.8</td>\n",
       "    </tr>\n",
       "  </tbody>\n",
       "</table>\n",
       "</div>"
      ],
      "text/plain": [
       "  geo_area          age  year  frac_private\n",
       "0   Assens  65-66 years  2010          11.4\n",
       "1   Assens  67-69 years  2010          11.7\n",
       "2   Assens  70-74 years  2010           9.7\n",
       "3   Assens  75-79 years  2010          10.3\n",
       "4   Assens  80-84 years  2010           6.8"
      ]
     },
     "execution_count": 14,
     "metadata": {},
     "output_type": "execute_result"
    }
   ],
   "source": [
    "privateshare_municipality.head(5)"
   ]
  },
  {
   "cell_type": "markdown",
   "metadata": {},
   "source": [
    "Now that the data is cleaned, we merge the relevant data sets in order to obtain two tables with all the relevant variables."
   ]
  },
  {
   "cell_type": "code",
   "execution_count": 15,
   "metadata": {},
   "outputs": [],
   "source": [
    "# a. merging the two data sets for Denmark \n",
    "mergeddata_denmark = pd.merge(totalhours_denmark,privateshare_denmark,how='left',on=['year', 'geo_area', 'age'])\n",
    "\n",
    "# b.merging the two data sets on municipality level\n",
    "mergeddata_municipality = pd.merge(totalhours_municipality,privateshare_municipality,how='left',on=['year', 'geo_area', 'age'])"
   ]
  },
  {
   "cell_type": "code",
   "execution_count": 16,
   "metadata": {},
   "outputs": [
    {
     "data": {
      "text/html": [
       "<div>\n",
       "<style scoped>\n",
       "    .dataframe tbody tr th:only-of-type {\n",
       "        vertical-align: middle;\n",
       "    }\n",
       "\n",
       "    .dataframe tbody tr th {\n",
       "        vertical-align: top;\n",
       "    }\n",
       "\n",
       "    .dataframe thead th {\n",
       "        text-align: right;\n",
       "    }\n",
       "</style>\n",
       "<table border=\"1\" class=\"dataframe\">\n",
       "  <thead>\n",
       "    <tr style=\"text-align: right;\">\n",
       "      <th></th>\n",
       "      <th>geo_area</th>\n",
       "      <th>age</th>\n",
       "      <th>year</th>\n",
       "      <th>home_help_total</th>\n",
       "      <th>frac_private</th>\n",
       "    </tr>\n",
       "  </thead>\n",
       "  <tbody>\n",
       "    <tr>\n",
       "      <th>0</th>\n",
       "      <td>All Denmark</td>\n",
       "      <td>65-66 years</td>\n",
       "      <td>2010</td>\n",
       "      <td>240245.2</td>\n",
       "      <td>29.3</td>\n",
       "    </tr>\n",
       "    <tr>\n",
       "      <th>1</th>\n",
       "      <td>All Denmark</td>\n",
       "      <td>67-69 years</td>\n",
       "      <td>2010</td>\n",
       "      <td>393052.4</td>\n",
       "      <td>31.1</td>\n",
       "    </tr>\n",
       "    <tr>\n",
       "      <th>2</th>\n",
       "      <td>All Denmark</td>\n",
       "      <td>70-74 years</td>\n",
       "      <td>2010</td>\n",
       "      <td>858431.6</td>\n",
       "      <td>32.1</td>\n",
       "    </tr>\n",
       "    <tr>\n",
       "      <th>3</th>\n",
       "      <td>All Denmark</td>\n",
       "      <td>75-79 years</td>\n",
       "      <td>2010</td>\n",
       "      <td>1370163.6</td>\n",
       "      <td>33.1</td>\n",
       "    </tr>\n",
       "    <tr>\n",
       "      <th>4</th>\n",
       "      <td>All Denmark</td>\n",
       "      <td>80-84 years</td>\n",
       "      <td>2010</td>\n",
       "      <td>1873320.8</td>\n",
       "      <td>32.2</td>\n",
       "    </tr>\n",
       "  </tbody>\n",
       "</table>\n",
       "</div>"
      ],
      "text/plain": [
       "      geo_area          age  year  home_help_total  frac_private\n",
       "0  All Denmark  65-66 years  2010         240245.2          29.3\n",
       "1  All Denmark  67-69 years  2010         393052.4          31.1\n",
       "2  All Denmark  70-74 years  2010         858431.6          32.1\n",
       "3  All Denmark  75-79 years  2010        1370163.6          33.1\n",
       "4  All Denmark  80-84 years  2010        1873320.8          32.2"
      ]
     },
     "execution_count": 16,
     "metadata": {},
     "output_type": "execute_result"
    }
   ],
   "source": [
    "mergeddata_denmark.head(5)"
   ]
  },
  {
   "cell_type": "code",
   "execution_count": 17,
   "metadata": {},
   "outputs": [
    {
     "data": {
      "text/html": [
       "<div>\n",
       "<style scoped>\n",
       "    .dataframe tbody tr th:only-of-type {\n",
       "        vertical-align: middle;\n",
       "    }\n",
       "\n",
       "    .dataframe tbody tr th {\n",
       "        vertical-align: top;\n",
       "    }\n",
       "\n",
       "    .dataframe thead th {\n",
       "        text-align: right;\n",
       "    }\n",
       "</style>\n",
       "<table border=\"1\" class=\"dataframe\">\n",
       "  <thead>\n",
       "    <tr style=\"text-align: right;\">\n",
       "      <th></th>\n",
       "      <th>geo_area</th>\n",
       "      <th>age</th>\n",
       "      <th>year</th>\n",
       "      <th>home_help_total</th>\n",
       "      <th>frac_private</th>\n",
       "    </tr>\n",
       "  </thead>\n",
       "  <tbody>\n",
       "    <tr>\n",
       "      <th>0</th>\n",
       "      <td>Egedal</td>\n",
       "      <td>67-69 years</td>\n",
       "      <td>2010</td>\n",
       "      <td>1944.8</td>\n",
       "      <td>65.9</td>\n",
       "    </tr>\n",
       "    <tr>\n",
       "      <th>1</th>\n",
       "      <td>Egedal</td>\n",
       "      <td>70-74 years</td>\n",
       "      <td>2010</td>\n",
       "      <td>4487.6</td>\n",
       "      <td>66.0</td>\n",
       "    </tr>\n",
       "    <tr>\n",
       "      <th>2</th>\n",
       "      <td>Egedal</td>\n",
       "      <td>75-79 years</td>\n",
       "      <td>2010</td>\n",
       "      <td>6474.0</td>\n",
       "      <td>60.0</td>\n",
       "    </tr>\n",
       "    <tr>\n",
       "      <th>3</th>\n",
       "      <td>Egedal</td>\n",
       "      <td>80-84 years</td>\n",
       "      <td>2010</td>\n",
       "      <td>6630.0</td>\n",
       "      <td>58.6</td>\n",
       "    </tr>\n",
       "    <tr>\n",
       "      <th>4</th>\n",
       "      <td>Egedal</td>\n",
       "      <td>85-89 years</td>\n",
       "      <td>2010</td>\n",
       "      <td>4264.0</td>\n",
       "      <td>55.2</td>\n",
       "    </tr>\n",
       "  </tbody>\n",
       "</table>\n",
       "</div>"
      ],
      "text/plain": [
       "  geo_area          age  year  home_help_total  frac_private\n",
       "0   Egedal  67-69 years  2010           1944.8          65.9\n",
       "1   Egedal  70-74 years  2010           4487.6          66.0\n",
       "2   Egedal  75-79 years  2010           6474.0          60.0\n",
       "3   Egedal  80-84 years  2010           6630.0          58.6\n",
       "4   Egedal  85-89 years  2010           4264.0          55.2"
      ]
     },
     "execution_count": 17,
     "metadata": {},
     "output_type": "execute_result"
    }
   ],
   "source": [
    "mergeddata_municipality.head(5)"
   ]
  },
  {
   "cell_type": "markdown",
   "metadata": {},
   "source": [
    "We are interested in analysing referral hours to home care in total and referral hours to home care supplied by public and private firms. Further, we want to see the development over time in the period 2010-2017 and sum all the age groups into one large group containing all elder aged 65 years and above. The data from Statistics Denmark only includes total hours and the private share in many age groups. To find referral hours to home care supplied by the public and private firms for all elder, we need to do some algebra. The new data sets are shown in the two tables below."
   ]
  },
  {
   "cell_type": "code",
   "execution_count": 18,
   "metadata": {},
   "outputs": [],
   "source": [
    "# a. making 'frac_private' a share and not a percentage\n",
    "mergeddata_denmark['temp'] = mergeddata_denmark.frac_private / 100\n",
    "mergeddata_municipality['temp'] = mergeddata_municipality.frac_private / 100\n",
    "\n",
    "# b. calculating the hours of home care supplied by the private sector\n",
    "mergeddata_denmark['private_supply'] = mergeddata_denmark.home_help_total * mergeddata_denmark.temp\n",
    "mergeddata_municipality['private_supply'] = mergeddata_municipality.home_help_total * mergeddata_municipality.temp\n",
    "\n",
    "# c. calculating the hours of home care supplied by the public sector\n",
    "mergeddata_denmark['public_supply'] = mergeddata_denmark.home_help_total-mergeddata_denmark.private_supply\n",
    "mergeddata_municipality['public_supply'] = mergeddata_municipality.home_help_total-mergeddata_municipality.private_supply\n",
    "\n",
    "# d. dropping irrelevant variables\n",
    "mergeddata_denmark.drop(['frac_private','temp'], axis=1, inplace=True)\n",
    "mergeddata_municipality.drop(['frac_private','temp'], axis=1, inplace=True)\n",
    "\n",
    "# e. summing the number of referral hours for the different age groups\n",
    "data_denmark = mergeddata_denmark.groupby(['geo_area', 'year']).sum().reset_index()\n",
    "data_municipality = mergeddata_municipality.groupby(['geo_area', 'year']).sum().reset_index()\n",
    "\n",
    "# d. sorting the dataset\n",
    "data_denmark.sort_values(by=['year', 'geo_area'], inplace=True)\n",
    "data_municipality.sort_values(by=['year', 'geo_area'], inplace=True)"
   ]
  },
  {
   "cell_type": "code",
   "execution_count": 19,
   "metadata": {},
   "outputs": [
    {
     "data": {
      "text/html": [
       "<div>\n",
       "<style scoped>\n",
       "    .dataframe tbody tr th:only-of-type {\n",
       "        vertical-align: middle;\n",
       "    }\n",
       "\n",
       "    .dataframe tbody tr th {\n",
       "        vertical-align: top;\n",
       "    }\n",
       "\n",
       "    .dataframe thead th {\n",
       "        text-align: right;\n",
       "    }\n",
       "</style>\n",
       "<table border=\"1\" class=\"dataframe\">\n",
       "  <thead>\n",
       "    <tr style=\"text-align: right;\">\n",
       "      <th></th>\n",
       "      <th>geo_area</th>\n",
       "      <th>year</th>\n",
       "      <th>home_help_total</th>\n",
       "      <th>private_supply</th>\n",
       "      <th>public_supply</th>\n",
       "    </tr>\n",
       "  </thead>\n",
       "  <tbody>\n",
       "    <tr>\n",
       "      <th>0</th>\n",
       "      <td>All Denmark</td>\n",
       "      <td>2010</td>\n",
       "      <td>7745654.8</td>\n",
       "      <td>2.430665e+06</td>\n",
       "      <td>5.314989e+06</td>\n",
       "    </tr>\n",
       "    <tr>\n",
       "      <th>1</th>\n",
       "      <td>All Denmark</td>\n",
       "      <td>2011</td>\n",
       "      <td>7294352.0</td>\n",
       "      <td>2.438423e+06</td>\n",
       "      <td>4.855929e+06</td>\n",
       "    </tr>\n",
       "    <tr>\n",
       "      <th>2</th>\n",
       "      <td>All Denmark</td>\n",
       "      <td>2012</td>\n",
       "      <td>6891580.8</td>\n",
       "      <td>2.465500e+06</td>\n",
       "      <td>4.426081e+06</td>\n",
       "    </tr>\n",
       "    <tr>\n",
       "      <th>3</th>\n",
       "      <td>All Denmark</td>\n",
       "      <td>2013</td>\n",
       "      <td>6579362.4</td>\n",
       "      <td>2.326363e+06</td>\n",
       "      <td>4.252999e+06</td>\n",
       "    </tr>\n",
       "    <tr>\n",
       "      <th>4</th>\n",
       "      <td>All Denmark</td>\n",
       "      <td>2014</td>\n",
       "      <td>6499844.0</td>\n",
       "      <td>2.439240e+06</td>\n",
       "      <td>4.060604e+06</td>\n",
       "    </tr>\n",
       "  </tbody>\n",
       "</table>\n",
       "</div>"
      ],
      "text/plain": [
       "      geo_area  year  home_help_total  private_supply  public_supply\n",
       "0  All Denmark  2010        7745654.8    2.430665e+06   5.314989e+06\n",
       "1  All Denmark  2011        7294352.0    2.438423e+06   4.855929e+06\n",
       "2  All Denmark  2012        6891580.8    2.465500e+06   4.426081e+06\n",
       "3  All Denmark  2013        6579362.4    2.326363e+06   4.252999e+06\n",
       "4  All Denmark  2014        6499844.0    2.439240e+06   4.060604e+06"
      ]
     },
     "execution_count": 19,
     "metadata": {},
     "output_type": "execute_result"
    }
   ],
   "source": [
    "data_denmark.head(5)"
   ]
  },
  {
   "cell_type": "code",
   "execution_count": 20,
   "metadata": {},
   "outputs": [
    {
     "data": {
      "text/html": [
       "<div>\n",
       "<style scoped>\n",
       "    .dataframe tbody tr th:only-of-type {\n",
       "        vertical-align: middle;\n",
       "    }\n",
       "\n",
       "    .dataframe tbody tr th {\n",
       "        vertical-align: top;\n",
       "    }\n",
       "\n",
       "    .dataframe thead th {\n",
       "        text-align: right;\n",
       "    }\n",
       "</style>\n",
       "<table border=\"1\" class=\"dataframe\">\n",
       "  <thead>\n",
       "    <tr style=\"text-align: right;\">\n",
       "      <th></th>\n",
       "      <th>geo_area</th>\n",
       "      <th>year</th>\n",
       "      <th>home_help_total</th>\n",
       "      <th>private_supply</th>\n",
       "      <th>public_supply</th>\n",
       "    </tr>\n",
       "  </thead>\n",
       "  <tbody>\n",
       "    <tr>\n",
       "      <th>0</th>\n",
       "      <td>Aabenraa</td>\n",
       "      <td>2010</td>\n",
       "      <td>89606.4</td>\n",
       "      <td>19276.3168</td>\n",
       "      <td>70330.0832</td>\n",
       "    </tr>\n",
       "    <tr>\n",
       "      <th>8</th>\n",
       "      <td>Aalborg</td>\n",
       "      <td>2010</td>\n",
       "      <td>367712.8</td>\n",
       "      <td>111393.5992</td>\n",
       "      <td>256319.2008</td>\n",
       "    </tr>\n",
       "    <tr>\n",
       "      <th>16</th>\n",
       "      <td>Aarhus</td>\n",
       "      <td>2010</td>\n",
       "      <td>367868.8</td>\n",
       "      <td>78345.5868</td>\n",
       "      <td>289523.2132</td>\n",
       "    </tr>\n",
       "    <tr>\n",
       "      <th>23</th>\n",
       "      <td>Albertslund</td>\n",
       "      <td>2010</td>\n",
       "      <td>26915.2</td>\n",
       "      <td>8929.3672</td>\n",
       "      <td>17985.8328</td>\n",
       "    </tr>\n",
       "    <tr>\n",
       "      <th>38</th>\n",
       "      <td>Assens</td>\n",
       "      <td>2010</td>\n",
       "      <td>64568.4</td>\n",
       "      <td>5060.5620</td>\n",
       "      <td>59507.8380</td>\n",
       "    </tr>\n",
       "  </tbody>\n",
       "</table>\n",
       "</div>"
      ],
      "text/plain": [
       "       geo_area  year  home_help_total  private_supply  public_supply\n",
       "0      Aabenraa  2010          89606.4      19276.3168     70330.0832\n",
       "8       Aalborg  2010         367712.8     111393.5992    256319.2008\n",
       "16       Aarhus  2010         367868.8      78345.5868    289523.2132\n",
       "23  Albertslund  2010          26915.2       8929.3672     17985.8328\n",
       "38       Assens  2010          64568.4       5060.5620     59507.8380"
      ]
     },
     "execution_count": 20,
     "metadata": {},
     "output_type": "execute_result"
    }
   ],
   "source": [
    "data_municipality.head(5)"
   ]
  },
  {
   "cell_type": "markdown",
   "metadata": {},
   "source": [
    "## Cleaning and structuring population data"
   ]
  },
  {
   "cell_type": "markdown",
   "metadata": {},
   "source": [
    "Besides the two data sets including total referrals to home care and the private share, we also need population data for two reasons. First to illustrate that both the number and share of people aged 65 years and above have been increasing for the last decade. Further, we need the population size in each municipality to calculate the number of referral hours to home care per person in order to be able to compare the municipalities. To do this, we fetch data from the table BY2 from Statistics Denmark using the same steps described in more detail above.\n",
    "\n",
    "Again we use `get_data()` to choose the desired variables and restrict the data on several conditions as age (65 years and above) and time period (2010-2017). Further, we rename and drop some variables. Three data sets are generated. One which shows the population size for everyone in Denmark, one which shows the population size for all people aged 65 years and above in Denmark and one which shows the population size for all aged 65 years and above in all the municipalities. The first two data sets are merged and used to calculate the share of people aged 65 years and above. The last data set is used later on to find the number of referrals to home care per person."
   ]
  },
  {
   "cell_type": "code",
   "execution_count": 21,
   "metadata": {},
   "outputs": [],
   "source": [
    "# a. defining dictionary to rename variables\n",
    "col_dict1 = {} \n",
    "col_dict1['TID'] = 'year'\n",
    "col_dict1['ALDER'] = 'age'\n",
    "col_dict1['INDHOLD'] = 'persons'\n",
    "col_dict1['KOMK'] = 'geo_area'\n",
    "\n",
    "col_dict2 = {}\n",
    "col_dict2['persons_x'] = 'total'\n",
    "col_dict2['persons_y'] = 'above64'\n",
    "\n",
    "# b. load data \n",
    "Population_all = dst.get_data(table_id = 'BY2', variables={'KOMK':['*'],'BYST':['*'],'KØN':['*'],'ALDER':['*'], \n",
    "                                                           'Tid':['2010','2011','2012','2013','2014','2015','2016','2017']})\n",
    "\n",
    "Population_above64 = dst.get_data(table_id = 'BY2', variables={'KOMK':['*'],'BYST':['*'],'KØN':['*'],\n",
    "                                                               'ALDER':['65','66','67','68','69','70','71','72','73','74',\n",
    "                                                                        '75','76','77','78','79','80','81','82','83','84',\n",
    "                                                                        '85','86','87','88','89','90','91','92','93','94',\n",
    "                                                                        '95','96','97','98','99','100','101','102','103',\n",
    "                                                                        '104','105','106','107','108','109','110','111',\n",
    "                                                                        '112','113','114','115','116','117','118','119',\n",
    "                                                                        '120','121','122','123','124','125'],'Tid':['2010',\n",
    "                                                                        '2011','2012','2013','2014','2015','2016','2017']})\n",
    "\n",
    "Population_above64_mun = dst.get_data(table_id = 'BY2', variables={'KOMK':['*'],'BYST':['*'],'KØN':['*'],\n",
    "                                                                   'ALDER':['65','66','67','68','69','70','71','72','73',\n",
    "                                                                            '74','75','76','77','78','79','80','81','82',\n",
    "                                                                            '83','84','85','86','87','88','89','90','91',\n",
    "                                                                            '92','93','94','95','96','97','98','99','100',\n",
    "                                                                            '101','102','103','104','105','106','107',\n",
    "                                                                            '108','109','110','111','112','113','114',\n",
    "                                                                            '115','116','117','118','119','120','121',\n",
    "                                                                            '122','123','124','125'],'Tid':['2010','2011',\n",
    "                                                                            '2012','2013','2014','2015','2016','2017']})\n",
    "\n",
    "# c. renaming and dropping variables\n",
    "Population_all.rename(columns=col_dict1, inplace=True)\n",
    "\n",
    "Population_above64.rename(columns=col_dict1, inplace=True)\n",
    "\n",
    "Population_above64_mun.rename(columns=col_dict1, inplace=True)\n",
    "\n",
    "# d. summing over the ages and municipalities\n",
    "Population_all = Population_all.groupby(['year']).sum().reset_index()\n",
    "Population_all.rename(columns = {'persons':'total'}, inplace=True)\n",
    "\n",
    "Population_above64 = Population_above64.groupby(['year']).sum().reset_index()\n",
    "Population_above64.rename(columns = {'persons':'above64'}, inplace=True)\n",
    "\n",
    "# e. summing over the ages and keeping municipalities\n",
    "Population_above64_mun = Population_above64_mun.groupby(['year', 'geo_area']).sum().reset_index()\n",
    "Population_above64_mun.rename(columns = {'persons':'above64'}, inplace=True)\n",
    "\n",
    "# f. merging the datasets Population_all and Population_above64\n",
    "popdata = pd.merge(Population_all,Population_above64,how='left',on=['year'])\n",
    "popdata.rename(columns=col_dict2, inplace=True)\n",
    "\n",
    "# g. calculating the share \n",
    "popdata['share'] = popdata.above64/popdata.total*100"
   ]
  },
  {
   "cell_type": "code",
   "execution_count": 22,
   "metadata": {},
   "outputs": [
    {
     "data": {
      "text/html": [
       "<div>\n",
       "<style scoped>\n",
       "    .dataframe tbody tr th:only-of-type {\n",
       "        vertical-align: middle;\n",
       "    }\n",
       "\n",
       "    .dataframe tbody tr th {\n",
       "        vertical-align: top;\n",
       "    }\n",
       "\n",
       "    .dataframe thead th {\n",
       "        text-align: right;\n",
       "    }\n",
       "</style>\n",
       "<table border=\"1\" class=\"dataframe\">\n",
       "  <thead>\n",
       "    <tr style=\"text-align: right;\">\n",
       "      <th></th>\n",
       "      <th>year</th>\n",
       "      <th>total</th>\n",
       "      <th>above64</th>\n",
       "      <th>share</th>\n",
       "    </tr>\n",
       "  </thead>\n",
       "  <tbody>\n",
       "    <tr>\n",
       "      <th>0</th>\n",
       "      <td>2010</td>\n",
       "      <td>5534738</td>\n",
       "      <td>902859</td>\n",
       "      <td>16.312588</td>\n",
       "    </tr>\n",
       "    <tr>\n",
       "      <th>1</th>\n",
       "      <td>2011</td>\n",
       "      <td>5560628</td>\n",
       "      <td>933781</td>\n",
       "      <td>16.792726</td>\n",
       "    </tr>\n",
       "    <tr>\n",
       "      <th>2</th>\n",
       "      <td>2012</td>\n",
       "      <td>5580516</td>\n",
       "      <td>968084</td>\n",
       "      <td>17.347571</td>\n",
       "    </tr>\n",
       "    <tr>\n",
       "      <th>3</th>\n",
       "      <td>2013</td>\n",
       "      <td>5602628</td>\n",
       "      <td>999801</td>\n",
       "      <td>17.845215</td>\n",
       "    </tr>\n",
       "    <tr>\n",
       "      <th>4</th>\n",
       "      <td>2014</td>\n",
       "      <td>5627235</td>\n",
       "      <td>1026734</td>\n",
       "      <td>18.245799</td>\n",
       "    </tr>\n",
       "  </tbody>\n",
       "</table>\n",
       "</div>"
      ],
      "text/plain": [
       "   year    total  above64      share\n",
       "0  2010  5534738   902859  16.312588\n",
       "1  2011  5560628   933781  16.792726\n",
       "2  2012  5580516   968084  17.347571\n",
       "3  2013  5602628   999801  17.845215\n",
       "4  2014  5627235  1026734  18.245799"
      ]
     },
     "execution_count": 22,
     "metadata": {},
     "output_type": "execute_result"
    }
   ],
   "source": [
    "popdata.head(5)"
   ]
  },
  {
   "cell_type": "markdown",
   "metadata": {},
   "source": [
    "In order to compare the municipalities, we merge the data set containing the number of persons aged 65 years and above and the data set on referral hours on the municipality level. Thereafter we calculate the number of total referral hours per person, the number of public and privately supplied referral hours per person. We do this to get a relative measure. "
   ]
  },
  {
   "cell_type": "code",
   "execution_count": 23,
   "metadata": {},
   "outputs": [
    {
     "data": {
      "text/html": [
       "<div>\n",
       "<style scoped>\n",
       "    .dataframe tbody tr th:only-of-type {\n",
       "        vertical-align: middle;\n",
       "    }\n",
       "\n",
       "    .dataframe tbody tr th {\n",
       "        vertical-align: top;\n",
       "    }\n",
       "\n",
       "    .dataframe thead th {\n",
       "        text-align: right;\n",
       "    }\n",
       "</style>\n",
       "<table border=\"1\" class=\"dataframe\">\n",
       "  <thead>\n",
       "    <tr style=\"text-align: right;\">\n",
       "      <th></th>\n",
       "      <th>geo_area</th>\n",
       "      <th>year</th>\n",
       "      <th>home_help_total</th>\n",
       "      <th>private_supply</th>\n",
       "      <th>public_supply</th>\n",
       "      <th>above64</th>\n",
       "      <th>total_per_pers</th>\n",
       "      <th>public_per_pers</th>\n",
       "      <th>private_per_pers</th>\n",
       "    </tr>\n",
       "  </thead>\n",
       "  <tbody>\n",
       "    <tr>\n",
       "      <th>0</th>\n",
       "      <td>Aabenraa</td>\n",
       "      <td>2010</td>\n",
       "      <td>89606.4</td>\n",
       "      <td>19276.3168</td>\n",
       "      <td>70330.0832</td>\n",
       "      <td>10683</td>\n",
       "      <td>838.775625</td>\n",
       "      <td>658.336452</td>\n",
       "      <td>180.439173</td>\n",
       "    </tr>\n",
       "    <tr>\n",
       "      <th>1</th>\n",
       "      <td>Aalborg</td>\n",
       "      <td>2010</td>\n",
       "      <td>367712.8</td>\n",
       "      <td>111393.5992</td>\n",
       "      <td>256319.2008</td>\n",
       "      <td>31185</td>\n",
       "      <td>1179.133558</td>\n",
       "      <td>821.931059</td>\n",
       "      <td>357.202499</td>\n",
       "    </tr>\n",
       "    <tr>\n",
       "      <th>2</th>\n",
       "      <td>Aarhus</td>\n",
       "      <td>2010</td>\n",
       "      <td>367868.8</td>\n",
       "      <td>78345.5868</td>\n",
       "      <td>289523.2132</td>\n",
       "      <td>38906</td>\n",
       "      <td>945.532309</td>\n",
       "      <td>744.160832</td>\n",
       "      <td>201.371477</td>\n",
       "    </tr>\n",
       "    <tr>\n",
       "      <th>3</th>\n",
       "      <td>Albertslund</td>\n",
       "      <td>2010</td>\n",
       "      <td>26915.2</td>\n",
       "      <td>8929.3672</td>\n",
       "      <td>17985.8328</td>\n",
       "      <td>3782</td>\n",
       "      <td>711.665785</td>\n",
       "      <td>475.564061</td>\n",
       "      <td>236.101724</td>\n",
       "    </tr>\n",
       "    <tr>\n",
       "      <th>4</th>\n",
       "      <td>Assens</td>\n",
       "      <td>2010</td>\n",
       "      <td>64568.4</td>\n",
       "      <td>5060.5620</td>\n",
       "      <td>59507.8380</td>\n",
       "      <td>7429</td>\n",
       "      <td>869.139857</td>\n",
       "      <td>801.020837</td>\n",
       "      <td>68.119020</td>\n",
       "    </tr>\n",
       "  </tbody>\n",
       "</table>\n",
       "</div>"
      ],
      "text/plain": [
       "      geo_area  year  home_help_total  private_supply  public_supply  above64  \\\n",
       "0     Aabenraa  2010          89606.4      19276.3168     70330.0832    10683   \n",
       "1      Aalborg  2010         367712.8     111393.5992    256319.2008    31185   \n",
       "2       Aarhus  2010         367868.8      78345.5868    289523.2132    38906   \n",
       "3  Albertslund  2010          26915.2       8929.3672     17985.8328     3782   \n",
       "4       Assens  2010          64568.4       5060.5620     59507.8380     7429   \n",
       "\n",
       "   total_per_pers  public_per_pers  private_per_pers  \n",
       "0      838.775625       658.336452        180.439173  \n",
       "1     1179.133558       821.931059        357.202499  \n",
       "2      945.532309       744.160832        201.371477  \n",
       "3      711.665785       475.564061        236.101724  \n",
       "4      869.139857       801.020837         68.119020  "
      ]
     },
     "execution_count": 23,
     "metadata": {},
     "output_type": "execute_result"
    }
   ],
   "source": [
    "# a. merging the population data and the data on referral hours on municipality level \n",
    "data_municipality1 = pd.merge(data_municipality,Population_above64_mun,how='left',on=['year','geo_area'])\n",
    "\n",
    "# b. creating variables\n",
    "data_municipality1['total_per_pers'] = data_municipality1.home_help_total/data_municipality1.above64*100\n",
    "data_municipality1['public_per_pers'] = data_municipality1.public_supply/data_municipality1.above64*100\n",
    "data_municipality1['private_per_pers'] = data_municipality1.private_supply/data_municipality1.above64*100\n",
    "\n",
    "# c. viewing the head of the data\n",
    "data_municipality1.head(5)"
   ]
  },
  {
   "cell_type": "markdown",
   "metadata": {},
   "source": [
    "# Data analysis"
   ]
  },
  {
   "cell_type": "markdown",
   "metadata": {},
   "source": [
    "## Development in referral hours to home care"
   ]
  },
  {
   "cell_type": "markdown",
   "metadata": {},
   "source": [
    "The development in referral hours to home care is shown in the figure below, and it can be seen that there has been a  decrease in referral hours to home care over the period 2010-2017. The number of referral hours has especially decreased sharply in the years 2010 to 2013. There was a small increase from 2015 to 2016.\n",
    "\n",
    "Note the statistics are compiled on the basis of monthly digitalized data reports from the municipalities. The monthly statistical coverage varies among the municipalities."
   ]
  },
  {
   "cell_type": "code",
   "execution_count": 27,
   "metadata": {},
   "outputs": [
    {
     "data": {
      "image/png": "[encoded data removed]",
      "text/plain": [
       "<Figure size 480x360 with 1 Axes>"
      ]
     },
     "metadata": {
      "needs_background": "light"
     },
     "output_type": "display_data"
    }
   ],
   "source": [
    "# a. plot figure\n",
    "plt.figure(figsize=(4,3), dpi=120) \n",
    "plt.plot('year', 'home_help_total', 'ko-', data=data_denmark)\n",
    "\n",
    "# b. ad title and labels\n",
    "plt.title('Development in permanent home help 2010-2017')\n",
    "plt.ylabel('Permanent home help, total')\n",
    "plt.rc('font', size=6) "
   ]
  },
  {
   "cell_type": "markdown",
   "metadata": {},
   "source": [
    "The rather large decrease in the number of referral hours of home care has happened despite both the total number of persons and the fraction of the total population aged 65 and above has been steadily increasing over the time period. This is illustrated in the two figures below."
   ]
  },
  {
   "cell_type": "code",
   "execution_count": 28,
   "metadata": {},
   "outputs": [
    {
     "data": {
      "image/png": "[encoded data removed]",
      "text/plain": [
       "<Figure size 840x360 with 2 Axes>"
      ]
     },
     "metadata": {
      "needs_background": "light"
     },
     "output_type": "display_data"
    }
   ],
   "source": [
    "# a. plot figure\n",
    "plt.figure(figsize=(7,3), dpi=120)\n",
    "\n",
    "# b. specifying the left subplot\n",
    "plt.subplot(1, 2, 1)\n",
    "plt.plot('year', 'total', 'ko-', data=popdata)\n",
    "plt.title('Number of people aged 65+ years')\n",
    "plt.ylabel('Number of people')\n",
    "plt.rc('font', size=6) \n",
    "\n",
    "# c. specifying the right subplot\n",
    "plt.subplot(1, 2, 2)\n",
    "plt.plot('year', 'share', 'bo-', data=popdata)\n",
    "plt.title('Share of people aged 65+ years')\n",
    "plt.ylabel('Percentage')\n",
    "plt.rc('font', size=6) \n",
    "\n",
    "# d. showing the figure \n",
    "plt.show()"
   ]
  },
  {
   "cell_type": "markdown",
   "metadata": {},
   "source": [
    "In the figure below the number of referral hours to home care that is chosen by the recipients to be supplied by a private contractor is a bit lower in 2017 than it was in 2010. However, the decrease in the number of referral hours to home care that is chosen to be supplied by the public has decreased a lot more from 2010 to 2017. This shows that in general a fewer number of referral hours are being supplied.\n",
    "\n",
    "A benefit from outsourcing home care is that private companies can be more effective as well as supplying faster, better and cheaper solutions than the public (i.e. the municipality). On the other side, private companies most likely want to maximise profits, which might make private companies more focused on making the costs of home care as small as possible. This might result in private companies supplying lower quality home care. However, the municipality has to to offer its residents two or three possible contractors to provide home care, where one of them has to be the municipality itself. If the private companies drive down the quality of home care in order to maximise profit the elders can always choose a different provider (e.g. the municipality itself). This can help keep the quality of the home care provided by private companies at a certain level."
   ]
  },
  {
   "cell_type": "code",
   "execution_count": 29,
   "metadata": {},
   "outputs": [
    {
     "data": {
      "image/png": "[encoded data removed]",
      "text/plain": [
       "<Figure size 480x360 with 1 Axes>"
      ]
     },
     "metadata": {
      "needs_background": "light"
     },
     "output_type": "display_data"
    }
   ],
   "source": [
    "# a. plot figure\n",
    "plt.figure(figsize=(4,3), dpi=120)\n",
    "plt.plot('year', 'private_supply', 'ko-', data=data_denmark)\n",
    "plt.plot('year', 'public_supply', 'bo-', data=data_denmark)\n",
    "\n",
    "# b. ad title and labels\n",
    "plt.title('Development of number of privately and publicly supplied referral hours, 2010-2017')\n",
    "plt.ylabel('Number of referral hours')\n",
    "plt.legend()\n",
    "plt.rc('font', size=6) "
   ]
  },
  {
   "cell_type": "markdown",
   "metadata": {},
   "source": [
    "## Differences across municipalities"
   ]
  },
  {
   "cell_type": "markdown",
   "metadata": {},
   "source": [
    "In this section, we first look at the development in privately and publicly supplied referral hours per person for elder aged 65 and above in the period 2010-2017. Thereafter we visualise the differences across municipalities for the total number of supplied referral hours per person for elder aged 65 and above in 2017 in a map of Danish municipalities. "
   ]
  },
  {
   "cell_type": "markdown",
   "metadata": {},
   "source": [
    "**Development in privately and publicly supplied referral hours per person**"
   ]
  },
  {
   "cell_type": "markdown",
   "metadata": {},
   "source": [
    "From the figure below it is possible to see the development of the number of referral hours to home care per person in each municipality in the period 2010-2017, split on the number of hours that are supplied by the municipality and the number of hours that are supplied by a private supplier. \n",
    "\n",
    "Generally, most of the municipalities have experienced a decrease in the number of referral hours in total. Some municipalities, e.g. Faxe and Herlev, have experienced a shift from most of the referral hours to home care being supplied by the municipality to instead being supplied by a private supplier. Other municipalities, e.g. Hørsholm, have recipients who primarily have used private suppliers in the whole period 2010-2017. However, most municipalities have recipients who primarily have used the municipality as the supplier of home care. "
   ]
  },
  {
   "cell_type": "code",
   "execution_count": 30,
   "metadata": {},
   "outputs": [],
   "source": [
    "# defining the figure\n",
    "def plot_e(dataframe, municipality): \n",
    "    I = dataframe['geo_area'] == municipality\n",
    "\n",
    "    ax=dataframe.loc[I,:].plot(x='year', y=['private_per_pers','public_per_pers'], style=['-bo', '-ko'], figsize=(8, 5),fontsize=11, legend='False')\n",
    "    ax.legend(loc='upper right', fontsize=11)\n",
    "    ax.set_title('Development of number of privately and publicly supplied referral hours per person on municipality level, 2010-2017', fontsize=13)\n",
    "    ax.set_xlabel('Year',fontsize=11)\n",
    "    ax.set_ylabel('Number of referral hours per person', fontsize=11)"
   ]
  },
  {
   "cell_type": "code",
   "execution_count": 31,
   "metadata": {},
   "outputs": [
    {
     "data": {
      "application/vnd.jupyter.widget-view+json": {
       "model_id": "8e0442ef1b2242a9af9e5267e842b9c2",
       "version_major": 2,
       "version_minor": 0
      },
      "text/plain": [
       "interactive(children=(Dropdown(description='Municipality', index=10, options=('Aabenraa', 'Aalborg', 'Aarhus',…"
      ]
     },
     "metadata": {},
     "output_type": "display_data"
    }
   ],
   "source": [
    "# making the figure interactive\n",
    "widgets.interact(plot_e, \n",
    "    dataframe = widgets.fixed(data_municipality1),\n",
    "    municipality = widgets.Dropdown(description='Municipality', options=data_municipality1.geo_area.unique(), value='Copenhagen')\n",
    ");"
   ]
  },
  {
   "cell_type": "markdown",
   "metadata": {},
   "source": [
    "**Mapping the total referral hours per person**"
   ]
  },
  {
   "cell_type": "markdown",
   "metadata": {},
   "source": [
    "In this section, we map the total number of referral hours per person for elder aged 65 years and above across the municipalities in Denmark. The colouring of the map indicates an average of the total number of referral hours per person aged 65 and above in each of the municipalities. "
   ]
  },
  {
   "cell_type": "markdown",
   "metadata": {},
   "source": [
    "First, we restrict the data to only include 2017."
   ]
  },
  {
   "cell_type": "code",
   "execution_count": 32,
   "metadata": {},
   "outputs": [],
   "source": [
    "# restricting data to only include 2017\n",
    "data_municipality2 = data_municipality1[data_municipality1.year == 2017]"
   ]
  },
  {
   "cell_type": "markdown",
   "metadata": {},
   "source": [
    "Then we need to import a shape file for the Danish municipalities. The figure below is just a simple map of Denmark to see that the map is working properly."
   ]
  },
  {
   "cell_type": "code",
   "execution_count": 33,
   "metadata": {},
   "outputs": [
    {
     "data": {
      "text/plain": [
       "<matplotlib.axes._subplots.AxesSubplot at 0x121216470>"
      ]
     },
     "execution_count": 33,
     "metadata": {},
     "output_type": "execute_result"
    },
    {
     "data": {
      "image/png": "[encoded data removed]",
      "text/plain": [
       "<Figure size 432x288 with 1 Axes>"
      ]
     },
     "metadata": {
      "needs_background": "light"
     },
     "output_type": "display_data"
    }
   ],
   "source": [
    "# a. read shape file\n",
    "file = './KOMMUNE.shp'\n",
    "map_df = gpd.read_file(file)\n",
    "\n",
    "# b. plot map\n",
    "map_df.plot()"
   ]
  },
  {
   "cell_type": "markdown",
   "metadata": {},
   "source": [
    "Now we need to merge our data with the total referral hours per person in each municipality with the geographical data in the shape file. "
   ]
  },
  {
   "cell_type": "code",
   "execution_count": 34,
   "metadata": {},
   "outputs": [
    {
     "data": {
      "text/html": [
       "<div>\n",
       "<style scoped>\n",
       "    .dataframe tbody tr th:only-of-type {\n",
       "        vertical-align: middle;\n",
       "    }\n",
       "\n",
       "    .dataframe tbody tr th {\n",
       "        vertical-align: top;\n",
       "    }\n",
       "\n",
       "    .dataframe thead th {\n",
       "        text-align: right;\n",
       "    }\n",
       "</style>\n",
       "<table border=\"1\" class=\"dataframe\">\n",
       "  <thead>\n",
       "    <tr style=\"text-align: right;\">\n",
       "      <th></th>\n",
       "      <th>FEAT_ID</th>\n",
       "      <th>FEAT_KODE</th>\n",
       "      <th>FEAT_TYPE</th>\n",
       "      <th>FEAT_STTXT</th>\n",
       "      <th>GEOM_STTXT</th>\n",
       "      <th>DAGI_ID</th>\n",
       "      <th>AREAL</th>\n",
       "      <th>REGIONKODE</th>\n",
       "      <th>REGIONNAVN</th>\n",
       "      <th>GYLDIG_FRA</th>\n",
       "      <th>...</th>\n",
       "      <th>TIMEOF_EXP</th>\n",
       "      <th>geometry</th>\n",
       "      <th>year</th>\n",
       "      <th>home_help_total</th>\n",
       "      <th>private_supply</th>\n",
       "      <th>public_supply</th>\n",
       "      <th>above64</th>\n",
       "      <th>total_per_pers</th>\n",
       "      <th>public_per_pers</th>\n",
       "      <th>private_per_pers</th>\n",
       "    </tr>\n",
       "  </thead>\n",
       "  <tbody>\n",
       "    <tr>\n",
       "      <th>Aabenraa</th>\n",
       "      <td>250591</td>\n",
       "      <td>6310</td>\n",
       "      <td>Kommune</td>\n",
       "      <td>vedtaget</td>\n",
       "      <td>endelig</td>\n",
       "      <td>389169</td>\n",
       "      <td>94061.2</td>\n",
       "      <td>1083</td>\n",
       "      <td>Region Syddanmark</td>\n",
       "      <td>2018-01-22</td>\n",
       "      <td>...</td>\n",
       "      <td>2019-03-23</td>\n",
       "      <td>POLYGON Z ((532245.9400000001 6079144.94 -999,...</td>\n",
       "      <td>2017.0</td>\n",
       "      <td>72066.8</td>\n",
       "      <td>31477.4512</td>\n",
       "      <td>40589.3488</td>\n",
       "      <td>13092.0</td>\n",
       "      <td>550.464406</td>\n",
       "      <td>310.03169</td>\n",
       "      <td>240.432716</td>\n",
       "    </tr>\n",
       "    <tr>\n",
       "      <th>Aabenraa</th>\n",
       "      <td>250589</td>\n",
       "      <td>6310</td>\n",
       "      <td>Kommune</td>\n",
       "      <td>vedtaget</td>\n",
       "      <td>endelig</td>\n",
       "      <td>389169</td>\n",
       "      <td>94061.2</td>\n",
       "      <td>1083</td>\n",
       "      <td>Region Syddanmark</td>\n",
       "      <td>2018-01-22</td>\n",
       "      <td>...</td>\n",
       "      <td>2019-03-23</td>\n",
       "      <td>POLYGON Z ((532579.09 6078987.87 -999, 532579....</td>\n",
       "      <td>2017.0</td>\n",
       "      <td>72066.8</td>\n",
       "      <td>31477.4512</td>\n",
       "      <td>40589.3488</td>\n",
       "      <td>13092.0</td>\n",
       "      <td>550.464406</td>\n",
       "      <td>310.03169</td>\n",
       "      <td>240.432716</td>\n",
       "    </tr>\n",
       "    <tr>\n",
       "      <th>Aabenraa</th>\n",
       "      <td>250593</td>\n",
       "      <td>6310</td>\n",
       "      <td>Kommune</td>\n",
       "      <td>vedtaget</td>\n",
       "      <td>endelig</td>\n",
       "      <td>389169</td>\n",
       "      <td>94061.2</td>\n",
       "      <td>1083</td>\n",
       "      <td>Region Syddanmark</td>\n",
       "      <td>2018-01-22</td>\n",
       "      <td>...</td>\n",
       "      <td>2019-03-23</td>\n",
       "      <td>POLYGON Z ((529349.23 6107743.85 -999, 529353....</td>\n",
       "      <td>2017.0</td>\n",
       "      <td>72066.8</td>\n",
       "      <td>31477.4512</td>\n",
       "      <td>40589.3488</td>\n",
       "      <td>13092.0</td>\n",
       "      <td>550.464406</td>\n",
       "      <td>310.03169</td>\n",
       "      <td>240.432716</td>\n",
       "    </tr>\n",
       "    <tr>\n",
       "      <th>Aabenraa</th>\n",
       "      <td>250587</td>\n",
       "      <td>6310</td>\n",
       "      <td>Kommune</td>\n",
       "      <td>vedtaget</td>\n",
       "      <td>endelig</td>\n",
       "      <td>389169</td>\n",
       "      <td>94061.2</td>\n",
       "      <td>1083</td>\n",
       "      <td>Region Syddanmark</td>\n",
       "      <td>2018-01-22</td>\n",
       "      <td>...</td>\n",
       "      <td>2019-03-23</td>\n",
       "      <td>POLYGON Z ((536464.0600000001 6107571.33 -999,...</td>\n",
       "      <td>2017.0</td>\n",
       "      <td>72066.8</td>\n",
       "      <td>31477.4512</td>\n",
       "      <td>40589.3488</td>\n",
       "      <td>13092.0</td>\n",
       "      <td>550.464406</td>\n",
       "      <td>310.03169</td>\n",
       "      <td>240.432716</td>\n",
       "    </tr>\n",
       "    <tr>\n",
       "      <th>Aabenraa</th>\n",
       "      <td>250585</td>\n",
       "      <td>6310</td>\n",
       "      <td>Kommune</td>\n",
       "      <td>vedtaget</td>\n",
       "      <td>endelig</td>\n",
       "      <td>389169</td>\n",
       "      <td>94061.2</td>\n",
       "      <td>1083</td>\n",
       "      <td>Region Syddanmark</td>\n",
       "      <td>2018-01-22</td>\n",
       "      <td>...</td>\n",
       "      <td>2019-03-23</td>\n",
       "      <td>POLYGON Z ((529191.3 6107597.05 -999, 529192.6...</td>\n",
       "      <td>2017.0</td>\n",
       "      <td>72066.8</td>\n",
       "      <td>31477.4512</td>\n",
       "      <td>40589.3488</td>\n",
       "      <td>13092.0</td>\n",
       "      <td>550.464406</td>\n",
       "      <td>310.03169</td>\n",
       "      <td>240.432716</td>\n",
       "    </tr>\n",
       "  </tbody>\n",
       "</table>\n",
       "<p>5 rows × 32 columns</p>\n",
       "</div>"
      ],
      "text/plain": [
       "          FEAT_ID  FEAT_KODE FEAT_TYPE FEAT_STTXT GEOM_STTXT  DAGI_ID  \\\n",
       "Aabenraa   250591       6310   Kommune   vedtaget    endelig   389169   \n",
       "Aabenraa   250589       6310   Kommune   vedtaget    endelig   389169   \n",
       "Aabenraa   250593       6310   Kommune   vedtaget    endelig   389169   \n",
       "Aabenraa   250587       6310   Kommune   vedtaget    endelig   389169   \n",
       "Aabenraa   250585       6310   Kommune   vedtaget    endelig   389169   \n",
       "\n",
       "            AREAL REGIONKODE         REGIONNAVN  GYLDIG_FRA       ...         \\\n",
       "Aabenraa  94061.2       1083  Region Syddanmark  2018-01-22       ...          \n",
       "Aabenraa  94061.2       1083  Region Syddanmark  2018-01-22       ...          \n",
       "Aabenraa  94061.2       1083  Region Syddanmark  2018-01-22       ...          \n",
       "Aabenraa  94061.2       1083  Region Syddanmark  2018-01-22       ...          \n",
       "Aabenraa  94061.2       1083  Region Syddanmark  2018-01-22       ...          \n",
       "\n",
       "          TIMEOF_EXP                                           geometry  \\\n",
       "Aabenraa  2019-03-23  POLYGON Z ((532245.9400000001 6079144.94 -999,...   \n",
       "Aabenraa  2019-03-23  POLYGON Z ((532579.09 6078987.87 -999, 532579....   \n",
       "Aabenraa  2019-03-23  POLYGON Z ((529349.23 6107743.85 -999, 529353....   \n",
       "Aabenraa  2019-03-23  POLYGON Z ((536464.0600000001 6107571.33 -999,...   \n",
       "Aabenraa  2019-03-23  POLYGON Z ((529191.3 6107597.05 -999, 529192.6...   \n",
       "\n",
       "            year home_help_total private_supply public_supply  above64  \\\n",
       "Aabenraa  2017.0         72066.8     31477.4512    40589.3488  13092.0   \n",
       "Aabenraa  2017.0         72066.8     31477.4512    40589.3488  13092.0   \n",
       "Aabenraa  2017.0         72066.8     31477.4512    40589.3488  13092.0   \n",
       "Aabenraa  2017.0         72066.8     31477.4512    40589.3488  13092.0   \n",
       "Aabenraa  2017.0         72066.8     31477.4512    40589.3488  13092.0   \n",
       "\n",
       "         total_per_pers public_per_pers private_per_pers  \n",
       "Aabenraa     550.464406       310.03169       240.432716  \n",
       "Aabenraa     550.464406       310.03169       240.432716  \n",
       "Aabenraa     550.464406       310.03169       240.432716  \n",
       "Aabenraa     550.464406       310.03169       240.432716  \n",
       "Aabenraa     550.464406       310.03169       240.432716  \n",
       "\n",
       "[5 rows x 32 columns]"
      ]
     },
     "execution_count": 34,
     "metadata": {},
     "output_type": "execute_result"
    }
   ],
   "source": [
    "# a. merge on municipality\n",
    "map_data = map_df.set_index('KOMNAVN').join(data_municipality2.set_index('geo_area'))\n",
    "\n",
    "# b. look at data\n",
    "map_data.head()"
   ]
  },
  {
   "cell_type": "markdown",
   "metadata": {},
   "source": [
    "Lastly, we choose the relevant variable we want to visualise on the map, specify the range of that variable and make some visualisation specifications related to the map. "
   ]
  },
  {
   "cell_type": "code",
   "execution_count": 36,
   "metadata": {},
   "outputs": [
    {
     "data": {
      "image/png": "[encoded data removed]",
      "text/plain": [
       "<Figure size 1440x864 with 2 Axes>"
      ]
     },
     "metadata": {
      "needs_background": "light"
     },
     "output_type": "display_data"
    }
   ],
   "source": [
    "# a. specify the variable to visualize on the map\n",
    "variable = 'total_per_pers'\n",
    "\n",
    "# b. range of variable\n",
    "vmin, vmax = 0, 1000\n",
    "\n",
    "# c. create figure and axes \n",
    "fig, ax = plt.subplots(1,figsize=(20,12))\n",
    "\n",
    "# d. plot the map\n",
    "map_data.plot(column=variable,cmap='Blues',linewidth=0.8,ax=ax,edgecolor='0.8', legend=False)\n",
    "\n",
    "# e. remove the axis\n",
    "ax.axis('off')\n",
    "\n",
    "# f. inserting a title to the figure\n",
    "ax.set_title('Total referral hours per person aged 65+ in the municipalities, 2017', fontdict={'fontsize': '20', 'fontweight' : '3'})\n",
    "           \n",
    "# g. colorbar as a legend\n",
    "sm = plt.cm.ScalarMappable(cmap='Blues', norm=plt.Normalize(vmin=vmin, vmax=vmax))\n",
    "\n",
    "# h. empty array for the data range\n",
    "sm._A = []\n",
    "\n",
    "# i. Changing the font size of the colorbar\n",
    "cbar = fig.colorbar(sm, ax=ax,)\n",
    "cbar.ax.tick_params(labelsize=12)"
   ]
  },
  {
   "cell_type": "markdown",
   "metadata": {},
   "source": [
    "From the map, it can be seen that there is a tendency that more referral hours to home care per person is being supplied in some of the rural areas, although there are a few exceptions, e.g. the relatively large city Aalborg. \n",
    "\n",
    "It could be that recipients living in rural areas generally have lower health status and thereby needs more home care. It could also be, that these people have had more physically demanding jobs, in contrast to the people living in urban areas, and hence, are more worn down and need more help. "
   ]
  },
  {
   "cell_type": "markdown",
   "metadata": {
    "toc-hr-collapsed": false
   },
   "source": [
    "# Conclusion"
   ]
  },
  {
   "cell_type": "markdown",
   "metadata": {},
   "source": [
    "In this data project, the development of referral hours to home care for the elderly in Denmark has been addressed. It has been shown that the number of people aged 65 years and above and their share of the total population has been increasing over the period 2010-2017. In the same period, the total number of referral hours to home care has been decreasing. The decrease has been largest for the hours supplied by the public, but there has also been a small decrease in the hours supplied by private contractors. Furthermore, there is a tendency that more referral hours to home care per person is being supplied in some of the rural areas of Denmark."
   ]
  }
 ],
 "metadata": {
  "kernelspec": {
   "display_name": "Python 3",
   "language": "python",
   "name": "python3"
  },
  "language_info": {
   "codemirror_mode": {
    "name": "ipython",
    "version": 3
   },
   "file_extension": ".py",
   "mimetype": "text/x-python",
   "name": "python",
   "nbconvert_exporter": "python",
   "pygments_lexer": "ipython3",
   "version": "3.7.3"
  }
 },
 "nbformat": 4,
 "nbformat_minor": 2
}

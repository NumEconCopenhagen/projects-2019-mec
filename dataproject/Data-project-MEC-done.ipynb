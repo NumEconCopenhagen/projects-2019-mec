{
 "cells": [
  {
   "cell_type": "markdown",
   "metadata": {},
   "source": [
    "# Introduction"
   ]
  },
  {
   "cell_type": "markdown",
   "metadata": {},
   "source": [
    "This data project addresses the development of home care for the elderly in Denmark. The main focus of the project will be on people aged 65 years and above. The project will look at the number of recipients referrals to home care in total and divided into whether the recipients have chosen a private or a public supplier. It is a known fact that the share of elders has been growing for the last decade, but at the same time, the number of recipients referrals has been decreasing. Whether the decreasing number is due to the elderly generally needing less help with personal care and practical tasks or a down-prioritization by the public sector is an interesting discussion, but will remain out of the scope for this project. "
   ]
  },
  {
   "cell_type": "markdown",
   "metadata": {},
   "source": [
    "In Denmark, it is the responsibility of the public sector to take care of the elderly including providing home care for both personal care and practical tasks. The majority of the public services for the elderly are controlled by the state but supplied by the municipalities. The municipalities can outsource home care to private contractors, but they need to live up to a certain level of quality and price. In the end, it is the elderly that choose which supplier they which to receive help from."
   ]
  },
  {
   "cell_type": "markdown",
   "metadata": {},
   "source": [
    "The data project uses data from Statistics Denmark. Table AED06 shows total recipients referral to home care and table AED12 shows the share of home care provided by private contractors. These two tables can be used to find the number of recipients referral to home care and the number that choose a public/private supplier. "
   ]
  },
  {
   "cell_type": "markdown",
   "metadata": {},
   "source": [
    "The data project is organized as following. Section 2 describes the cleaning and structuring of the data used. Section 3 presents summary statistics and a graphical analysis and section 4 concludes on the project."
   ]
  },
  {
   "cell_type": "markdown",
   "metadata": {},
   "source": [
    "# Data cleaning and structuring"
   ]
  },
  {
   "cell_type": "markdown",
   "metadata": {},
   "source": [
    "Importing useful packages for the project: "
   ]
  },
  {
   "cell_type": "code",
   "execution_count": 197,
   "metadata": {},
   "outputs": [],
   "source": [
    "import numpy as np\n",
    "import matplotlib.pyplot as plt\n",
    "import pandas as pd\n",
    "import ipywidgets as widgets"
   ]
  },
  {
   "cell_type": "markdown",
   "metadata": {},
   "source": [
    "As already mentioned, we are going to use data from Statistics Denmark. Instead of going to their website to download their data in Excel format and then import it to Python, we choose to use an API (Application Programming Interface) to fetch the data. "
   ]
  },
  {
   "cell_type": "code",
   "execution_count": 198,
   "metadata": {},
   "outputs": [],
   "source": [
    "import pydst\n",
    "dst = dst = pydst.Dst(lang='en')"
   ]
  },
  {
   "cell_type": "markdown",
   "metadata": {},
   "source": [
    "First, we get an overview of the variables that can be found in the desired tabel \"*Recipients referral to home care, free choice, by region, type of benefits, hours per week, age and sex (2008-2017)*\" (AED06). It can also be found here: http://statistikbanken.dk/statbank5a/default.asp?w=1368. "
   ]
  },
  {
   "cell_type": "code",
   "execution_count": 177,
   "metadata": {},
   "outputs": [
    {
     "data": {
      "text/html": [
       "<div>\n",
       "<style scoped>\n",
       "    .dataframe tbody tr th:only-of-type {\n",
       "        vertical-align: middle;\n",
       "    }\n",
       "\n",
       "    .dataframe tbody tr th {\n",
       "        vertical-align: top;\n",
       "    }\n",
       "\n",
       "    .dataframe thead th {\n",
       "        text-align: right;\n",
       "    }\n",
       "</style>\n",
       "<table border=\"1\" class=\"dataframe\">\n",
       "  <thead>\n",
       "    <tr style=\"text-align: right;\">\n",
       "      <th></th>\n",
       "      <th>elimination</th>\n",
       "      <th>id</th>\n",
       "      <th>map</th>\n",
       "      <th>text</th>\n",
       "      <th>time</th>\n",
       "      <th>values</th>\n",
       "    </tr>\n",
       "  </thead>\n",
       "  <tbody>\n",
       "    <tr>\n",
       "      <th>0</th>\n",
       "      <td>True</td>\n",
       "      <td>OMRÅDE</td>\n",
       "      <td>denmark_municipality_07</td>\n",
       "      <td>region</td>\n",
       "      <td>False</td>\n",
       "      <td>[{'id': '000', 'text': 'All Denmark'}, {'id': ...</td>\n",
       "    </tr>\n",
       "    <tr>\n",
       "      <th>1</th>\n",
       "      <td>True</td>\n",
       "      <td>YDELSESTYPE</td>\n",
       "      <td>NaN</td>\n",
       "      <td>type of benefits</td>\n",
       "      <td>False</td>\n",
       "      <td>[{'id': '100', 'text': 'Permanent home help, t...</td>\n",
       "    </tr>\n",
       "    <tr>\n",
       "      <th>2</th>\n",
       "      <td>True</td>\n",
       "      <td>TIMEUGE</td>\n",
       "      <td>NaN</td>\n",
       "      <td>hours per week</td>\n",
       "      <td>False</td>\n",
       "      <td>[{'id': '050', 'text': 'Total duration'}, {'id...</td>\n",
       "    </tr>\n",
       "    <tr>\n",
       "      <th>3</th>\n",
       "      <td>True</td>\n",
       "      <td>ALDER</td>\n",
       "      <td>NaN</td>\n",
       "      <td>age</td>\n",
       "      <td>False</td>\n",
       "      <td>[{'id': '050', 'text': 'Total'}, {'id': '100',...</td>\n",
       "    </tr>\n",
       "    <tr>\n",
       "      <th>4</th>\n",
       "      <td>True</td>\n",
       "      <td>KOEN</td>\n",
       "      <td>NaN</td>\n",
       "      <td>sex</td>\n",
       "      <td>False</td>\n",
       "      <td>[{'id': '100', 'text': 'Males and women, total...</td>\n",
       "    </tr>\n",
       "    <tr>\n",
       "      <th>5</th>\n",
       "      <td>False</td>\n",
       "      <td>Tid</td>\n",
       "      <td>NaN</td>\n",
       "      <td>time</td>\n",
       "      <td>True</td>\n",
       "      <td>[{'id': '2008', 'text': '2008'}, {'id': '2009'...</td>\n",
       "    </tr>\n",
       "  </tbody>\n",
       "</table>\n",
       "</div>"
      ],
      "text/plain": [
       "   elimination           id                      map              text   time  \\\n",
       "0         True       OMRÅDE  denmark_municipality_07            region  False   \n",
       "1         True  YDELSESTYPE                      NaN  type of benefits  False   \n",
       "2         True      TIMEUGE                      NaN    hours per week  False   \n",
       "3         True        ALDER                      NaN               age  False   \n",
       "4         True         KOEN                      NaN               sex  False   \n",
       "5        False          Tid                      NaN              time   True   \n",
       "\n",
       "                                              values  \n",
       "0  [{'id': '000', 'text': 'All Denmark'}, {'id': ...  \n",
       "1  [{'id': '100', 'text': 'Permanent home help, t...  \n",
       "2  [{'id': '050', 'text': 'Total duration'}, {'id...  \n",
       "3  [{'id': '050', 'text': 'Total'}, {'id': '100',...  \n",
       "4  [{'id': '100', 'text': 'Males and women, total...  \n",
       "5  [{'id': '2008', 'text': '2008'}, {'id': '2009'...  "
      ]
     },
     "execution_count": 177,
     "metadata": {},
     "output_type": "execute_result"
    }
   ],
   "source": [
    "AED06_vars = dst.get_variables(table_id = 'AED06')\n",
    "AED06_vars"
   ]
  },
  {
   "cell_type": "markdown",
   "metadata": {},
   "source": [
    "Now, the same approach is taken to get an overview of the table: \"*Recipients referral to home care, free choice, who use private contractor by region, type of benefits, age and sex (2008-2017)*\" (AED12). "
   ]
  },
  {
   "cell_type": "code",
   "execution_count": 178,
   "metadata": {},
   "outputs": [
    {
     "data": {
      "text/html": [
       "<div>\n",
       "<style scoped>\n",
       "    .dataframe tbody tr th:only-of-type {\n",
       "        vertical-align: middle;\n",
       "    }\n",
       "\n",
       "    .dataframe tbody tr th {\n",
       "        vertical-align: top;\n",
       "    }\n",
       "\n",
       "    .dataframe thead th {\n",
       "        text-align: right;\n",
       "    }\n",
       "</style>\n",
       "<table border=\"1\" class=\"dataframe\">\n",
       "  <thead>\n",
       "    <tr style=\"text-align: right;\">\n",
       "      <th></th>\n",
       "      <th>elimination</th>\n",
       "      <th>id</th>\n",
       "      <th>map</th>\n",
       "      <th>text</th>\n",
       "      <th>time</th>\n",
       "      <th>values</th>\n",
       "    </tr>\n",
       "  </thead>\n",
       "  <tbody>\n",
       "    <tr>\n",
       "      <th>0</th>\n",
       "      <td>True</td>\n",
       "      <td>OMRÅDE</td>\n",
       "      <td>denmark_municipality_07</td>\n",
       "      <td>region</td>\n",
       "      <td>False</td>\n",
       "      <td>[{'id': '000', 'text': 'All Denmark'}, {'id': ...</td>\n",
       "    </tr>\n",
       "    <tr>\n",
       "      <th>1</th>\n",
       "      <td>True</td>\n",
       "      <td>YDELSESTYPE</td>\n",
       "      <td>NaN</td>\n",
       "      <td>type of benefits</td>\n",
       "      <td>False</td>\n",
       "      <td>[{'id': '100', 'text': 'Permanent home help, t...</td>\n",
       "    </tr>\n",
       "    <tr>\n",
       "      <th>2</th>\n",
       "      <td>True</td>\n",
       "      <td>ALDER</td>\n",
       "      <td>NaN</td>\n",
       "      <td>age</td>\n",
       "      <td>False</td>\n",
       "      <td>[{'id': '050', 'text': 'Total'}, {'id': '100',...</td>\n",
       "    </tr>\n",
       "    <tr>\n",
       "      <th>3</th>\n",
       "      <td>True</td>\n",
       "      <td>KOEN</td>\n",
       "      <td>NaN</td>\n",
       "      <td>sex</td>\n",
       "      <td>False</td>\n",
       "      <td>[{'id': '100', 'text': 'Males and women, total...</td>\n",
       "    </tr>\n",
       "    <tr>\n",
       "      <th>4</th>\n",
       "      <td>False</td>\n",
       "      <td>Tid</td>\n",
       "      <td>NaN</td>\n",
       "      <td>time</td>\n",
       "      <td>True</td>\n",
       "      <td>[{'id': '2008', 'text': '2008'}, {'id': '2009'...</td>\n",
       "    </tr>\n",
       "  </tbody>\n",
       "</table>\n",
       "</div>"
      ],
      "text/plain": [
       "   elimination           id                      map              text   time  \\\n",
       "0         True       OMRÅDE  denmark_municipality_07            region  False   \n",
       "1         True  YDELSESTYPE                      NaN  type of benefits  False   \n",
       "2         True        ALDER                      NaN               age  False   \n",
       "3         True         KOEN                      NaN               sex  False   \n",
       "4        False          Tid                      NaN              time   True   \n",
       "\n",
       "                                              values  \n",
       "0  [{'id': '000', 'text': 'All Denmark'}, {'id': ...  \n",
       "1  [{'id': '100', 'text': 'Permanent home help, t...  \n",
       "2  [{'id': '050', 'text': 'Total'}, {'id': '100',...  \n",
       "3  [{'id': '100', 'text': 'Males and women, total...  \n",
       "4  [{'id': '2008', 'text': '2008'}, {'id': '2009'...  "
      ]
     },
     "execution_count": 178,
     "metadata": {},
     "output_type": "execute_result"
    }
   ],
   "source": [
    "AED12_vars = dst.get_variables(table_id = 'AED12')\n",
    "AED12_vars"
   ]
  },
  {
   "cell_type": "markdown",
   "metadata": {},
   "source": [
    "In order to clean the data and remove the irrelavant parts, we use the beneath function to get further details on the values in each variable."
   ]
  },
  {
   "cell_type": "code",
   "execution_count": 112,
   "metadata": {},
   "outputs": [
    {
     "data": {
      "text/plain": [
       "[{'id': '100', 'text': 'Permanent home help, total'},\n",
       " {'id': '200', 'text': 'Personal care'},\n",
       " {'id': '300', 'text': 'Help on necessary practical duties'},\n",
       " {'id': '400',\n",
       "  'text': 'Both personal care and help on necessary practical duties'}]"
      ]
     },
     "execution_count": 112,
     "metadata": {},
     "output_type": "execute_result"
    }
   ],
   "source": [
    "AED06_vars['values'][1]"
   ]
  },
  {
   "cell_type": "code",
   "execution_count": 113,
   "metadata": {},
   "outputs": [
    {
     "data": {
      "text/plain": [
       "[{'id': '100', 'text': 'Permanent home help, total'},\n",
       " {'id': '200', 'text': 'Personal care'},\n",
       " {'id': '300', 'text': 'Help on necessary practical duties'},\n",
       " {'id': '400',\n",
       "  'text': 'Both personal care and help on necessary practical duties'}]"
      ]
     },
     "execution_count": 113,
     "metadata": {},
     "output_type": "execute_result"
    }
   ],
   "source": [
    "AED12_vars['values'][1]"
   ]
  },
  {
   "cell_type": "markdown",
   "metadata": {},
   "source": [
    "With data from AED06 we generate two dataframes. Common for both of them is that we restrict it to only include *Permanent home help, total* (100), which states the total number of recipients referral to home care. Further, we restrict it to include ages *65 years and above* (200-800) and both *men and women* (100). For one of the two dataframes we only keep the country level and for the other we only keep the municipality level (i.e. we remove observations on country and regional level). We also remove missing observations. Lastly, we convert our variables of interest, namely the hours of home care to a numeric variable. "
   ]
  },
  {
   "cell_type": "code",
   "execution_count": 179,
   "metadata": {},
   "outputs": [],
   "source": [
    "# A. Defining dictionary to rename variables\n",
    "col_dict1 = {} \n",
    "col_dict1['TID'] = 'year'\n",
    "col_dict1['INDHOLD'] = 'home_help_total'\n",
    "col_dict1['OMRÅDE'] = 'municipality'\n",
    "col_dict1['ALDER'] = 'age'\n",
    "\n",
    "# B. Load data \n",
    "AED06_a = dst.get_data(table_id = 'AED06', variables={'OMRÅDE':['000'], 'YDELSESTYPE':['100'], \n",
    "                                                      'ALDER':['200','300','400','500','600','700','800'], \n",
    "                                                      'KOEN':['100'], 'Tid':['*']})\n",
    "AED06_b = dst.get_data(table_id = 'AED06', variables={'OMRÅDE':['*'], 'YDELSESTYPE':['100'], \n",
    "                                                      'ALDER':['200','300','400','500','600','700','800'], \n",
    "                                                      'KOEN':['100'], 'Tid':['*']})\n",
    "\n",
    "# C. Renaming and dropping variables\n",
    "AED06_a.rename(columns=col_dict1, inplace=True)\n",
    "AED06_a.drop(['YDELSESTYPE', 'KOEN', 'TIMEUGE'], axis=1, inplace=True)\n",
    "\n",
    "AED06_b.rename(columns=col_dict1, inplace=True)\n",
    "AED06_b.drop(['YDELSESTYPE', 'KOEN', 'TIMEUGE'], axis=1, inplace=True)\n",
    "\n",
    "# D. Removing missing observations \n",
    "AED06_b = AED06_b[AED06_b.home_help_total !=\"..\"]\n",
    "\n",
    "# E. Removing observations on country and regional level in the second dataset\n",
    "for val in ['Region', 'All Denmark']: \n",
    "    I = AED06_b.municipality.str.contains(val)\n",
    "    AED06_b = AED06_b.loc[I == False] \n",
    "\n",
    "# F. Convert values to numeric\n",
    "AED06_a.home_help_total=AED06_a.home_help_total.astype('float')\n",
    "AED06_b.home_help_total=AED06_b.home_help_total.astype('float')"
   ]
  },
  {
   "cell_type": "markdown",
   "metadata": {},
   "source": [
    "The same approach is taken for the data from AED12. We generate two dataframes, where we restrict in both of them to only include *the fraction of privately supplied home care* (100), only ages *65 years and above* (200-800) and both *men and women* (100). For one of the two dataframes we only keep the country level and for the other we only keep the municipality level (i.e. we remove observations on country and regional level). We also remove missing observations. Lastly, we convert our variables of interest, namely the fraction of privately supplied home care to a numeric variable. "
   ]
  },
  {
   "cell_type": "code",
   "execution_count": 180,
   "metadata": {},
   "outputs": [],
   "source": [
    "# A. Defining dictionary to rename variables\n",
    "col_dict2 = {} \n",
    "col_dict2['TID'] = 'year'\n",
    "col_dict2['INDHOLD'] = 'frac_private'\n",
    "col_dict2['OMRÅDE'] = 'municipality'\n",
    "col_dict2['ALDER'] = 'age'\n",
    "\n",
    "# B. Load data \n",
    "AED12_a = dst.get_data(table_id = 'AED12', variables={'OMRÅDE':['000'], 'YDELSESTYPE':['100'], \n",
    "                                                      'ALDER':['200','300','400','500','600','700','800'], \n",
    "                                                      'KOEN':['100'], 'Tid':['*']})\n",
    "AED12_b = dst.get_data(table_id = 'AED12', variables={'OMRÅDE':['*'], 'YDELSESTYPE':['100'], \n",
    "                                                      'ALDER':['200','300','400','500','600','700','800'], \n",
    "                                                      'KOEN':['100'], 'Tid':['*']})\n",
    "\n",
    "# C. Renaming and dropping variables\n",
    "AED12_a.rename(columns=col_dict2, inplace=True)\n",
    "AED12_a.drop(['YDELSESTYPE', 'KOEN'], axis=1, inplace=True)\n",
    "\n",
    "AED12_b.rename(columns=col_dict2, inplace=True)\n",
    "AED12_b.drop(['YDELSESTYPE', 'KOEN'], axis=1, inplace=True)\n",
    "\n",
    "# D. Removing missing observations \n",
    "AED12_b = AED12_b[AED12_b.frac_private !=\"..\"]\n",
    "\n",
    "# E. Removing observations on country and regional level\n",
    "for val in ['Region', 'All Denmark']: \n",
    "    I = AED12_b.municipality.str.contains(val)\n",
    "    AED12_b = AED12_b.loc[I == False] \n",
    "    \n",
    "# F. Convert values to numeric\n",
    "AED12_a.frac_private=AED12_a.frac_private.astype('float')\n",
    "AED12_b.frac_private=AED12_b.frac_private.astype('float')"
   ]
  },
  {
   "cell_type": "markdown",
   "metadata": {},
   "source": [
    "Now that the data is cleaned, we merge the relevant datasets in order to obtain two tables with all the relevant variables."
   ]
  },
  {
   "cell_type": "code",
   "execution_count": 181,
   "metadata": {},
   "outputs": [],
   "source": [
    "data_a = pd.merge(AED06_a,AED12_a,how='left',on=['year', 'municipality', 'age'])\n",
    "data_b = pd.merge(AED06_b,AED12_b,how='left',on=['year', 'municipality', 'age'])"
   ]
  },
  {
   "cell_type": "markdown",
   "metadata": {},
   "source": [
    "As we also are interested in analysing the hours of home care supplied by private and public firms, and the development in the municipalities over the periode 2008-2017, we have to do some algebra:"
   ]
  },
  {
   "cell_type": "code",
   "execution_count": 117,
   "metadata": {},
   "outputs": [],
   "source": [
    "# A. Making it a share and not a percentage\n",
    "data_a['temp'] = data_a.frac_private / 100\n",
    "data_b['temp'] = data_b.frac_private / 100\n",
    "\n",
    "# B. Calculating the hours of home care supplied by the private sector\n",
    "data_a['private_supply'] = data_a.home_help_total * data_a.temp\n",
    "data_b['private_supply'] = data_b.home_help_total * data_b.temp\n",
    "\n",
    "# C. Calculating the hours of home care supplied by the public sector\n",
    "data_a['public_supply'] = data_a.home_help_total-data_a.private_supply\n",
    "data_b['public_supply'] = data_b.home_help_total-data_b.private_supply\n",
    "\n",
    "# D. Dropping irrelevant variables\n",
    "data_a.drop(['frac_private','temp'], axis=1, inplace=True)\n",
    "data_b.drop(['frac_private','temp'], axis=1, inplace=True)\n",
    "\n",
    "# E. Summing the number of referral hours for the different age groups\n",
    "data_final_a = data_a.groupby(['municipality', 'year']).sum().reset_index()\n",
    "data_final_b = data_b.groupby(['municipality', 'year']).sum().reset_index()\n",
    "\n",
    "# F. Sorting the dataset\n",
    "data_final_a.sort_values(by=['year', 'municipality'], inplace=True)\n",
    "data_final_b.sort_values(by=['year', 'municipality'], inplace=True)"
   ]
  },
  {
   "cell_type": "markdown",
   "metadata": {},
   "source": [
    "To illustrate that the both the number and share of people aged 65 years and above has been increasing for the last decade we fetch data from the table FOLK02 from Statistics Denmark using the same steps describe in more detail above."
   ]
  },
  {
   "cell_type": "code",
   "execution_count": 182,
   "metadata": {},
   "outputs": [],
   "source": [
    "# A. Defining dictionary to rename variables\n",
    "col_dict1 = {} \n",
    "col_dict1['TID'] = 'year'\n",
    "col_dict1['ALDER'] = 'age'\n",
    "col_dict1['INDHOLD'] = 'persons'\n",
    "\n",
    "col_dict2 = {}\n",
    "col_dict2['persons_x'] = 'total'\n",
    "col_dict2['persons_y'] = 'above65'\n",
    "\n",
    "# B. Load data \n",
    "FOLK2_a = dst.get_data(table_id = 'FOLK2', variables={'ALDER':['*'], 'Tid':['2008','2009','2010','2011','2012','2013','2014','2015','2016','2017']})\n",
    "FOLK2_b = dst.get_data(table_id = 'FOLK2', variables={'ALDER':['65','66','67','68','69','70','71','72','73','74','75','76','77','78','79','80','81',\n",
    "                                                               '82','83','84','85','86','87','88','89','90','91','92','93','94','95','96','97','98',\n",
    "                                                               '99','100','101','102','103','104','105','106','107','108','109','110','111','112','113',\n",
    "                                                               '114','115','116','117','118','119','120','121','122','123','124','125'], \n",
    "                                                      'Tid':['2008','2009','2010','2011','2012','2013','2014','2015','2016','2017']})\n",
    "\n",
    "# C. Renaming and dropping variables\n",
    "FOLK2_a.rename(columns=col_dict1, inplace=True)\n",
    "FOLK2_a.drop(['HERKOMST', 'STATSB', 'IELAND'], axis=1, inplace=True)\n",
    "\n",
    "FOLK2_b.rename(columns=col_dict1, inplace=True)\n",
    "FOLK2_b.drop(['HERKOMST', 'STATSB', 'IELAND'], axis=1, inplace=True)\n",
    "\n",
    "# D. Summing over the ages\n",
    "FOLK2_a = FOLK2_a.groupby(['year']).sum().reset_index()\n",
    "FOLK2_a.rename(columns = {'persons':'total'}, inplace=True)\n",
    "\n",
    "FOLK2_b = FOLK2_b.groupby(['year']).sum().reset_index()\n",
    "FOLK2_b.rename(columns = {'persons':'above65'}, inplace=True)\n",
    "\n",
    "# E. Merging the datasets\n",
    "popdata = pd.merge(FOLK2_a,FOLK2_b,how='left',on=['year'])\n",
    "popdata.rename(columns=col_dict2, inplace=True)\n",
    "\n",
    "# F. Calculating the share \n",
    "popdata['share'] = popdata.above65/popdata.total*100"
   ]
  },
  {
   "cell_type": "markdown",
   "metadata": {},
   "source": [
    "# Data analysis"
   ]
  },
  {
   "cell_type": "markdown",
   "metadata": {},
   "source": [
    "## Development in permanent home help"
   ]
  },
  {
   "cell_type": "markdown",
   "metadata": {},
   "source": [
    "The number of recipients referral of home care has generally been decreasing over the period 2008-2017 from a total number of 154,576.5 recipients referral in 2008 to 121,670.7 recipients referral in 2017. The number of recipients referral especially decreased sharply in the years 2010 to 2013. There was, however, a small increase in the number from 2015 to 2016.\n",
    "Note the statistics are compiled on the basis of monthly digitalized data reports from the municipalities. The monthly statistical coverage varies among the municipalities. The number of recipients worked is estimated as an average of the reported months, which is the reason for the number including decimals. "
   ]
  },
  {
   "cell_type": "code",
   "execution_count": 183,
   "metadata": {},
   "outputs": [
    {
     "data": {
      "image/png": "[encoded data removed]",
      "text/plain": [
       "<Figure size 480x360 with 1 Axes>"
      ]
     },
     "metadata": {
      "needs_background": "light"
     },
     "output_type": "display_data"
    }
   ],
   "source": [
    "plt.figure(figsize=(4,3), dpi=120) \n",
    "\n",
    "plt.plot('year', 'home_help_total', 'ko-', data=data_final_a)\n",
    "plt.title('Development in permanent home help 2008-2017')\n",
    "plt.ylabel('Permanent home help, total')\n",
    "plt.rc('font', size=6) "
   ]
  },
  {
   "cell_type": "code",
   "execution_count": 184,
   "metadata": {},
   "outputs": [
    {
     "data": {
      "text/plain": [
       "year\n",
       "2008    154576.5\n",
       "2009    153668.4\n",
       "2010    148954.9\n",
       "2011    140276.0\n",
       "2012    132530.4\n",
       "2013    126526.2\n",
       "2014    124997.0\n",
       "2015    123026.5\n",
       "2016    123210.7\n",
       "2017    121670.7\n",
       "Name: home_help_total, dtype: float64"
      ]
     },
     "execution_count": 184,
     "metadata": {},
     "output_type": "execute_result"
    }
   ],
   "source": [
    "data_final_a.groupby(['year']).home_help_total.mean().round(decimals=2)"
   ]
  },
  {
   "cell_type": "markdown",
   "metadata": {},
   "source": [
    "The rather large decrease in the number of recipients referral of home care has happened despite both the total number of persons age 65 and above and the fraction of the total population has been steadily increasing over the time period, which can be seen from the two figures below."
   ]
  },
  {
   "cell_type": "code",
   "execution_count": 185,
   "metadata": {},
   "outputs": [
    {
     "data": {
      "image/png": "[encoded data removed]",
      "text/plain": [
       "<Figure size 840x360 with 2 Axes>"
      ]
     },
     "metadata": {
      "needs_background": "light"
     },
     "output_type": "display_data"
    }
   ],
   "source": [
    "plt.figure(figsize=(7,3), dpi=120)\n",
    "\n",
    "plt.subplot(1, 2, 1)\n",
    "plt.plot('year', 'total', 'ko-', data=popdata)\n",
    "plt.title('Number of people aged 65+ years')\n",
    "plt.ylabel('Number of people (mio)')\n",
    "plt.rc('font', size=6) \n",
    "\n",
    "plt.subplot(1, 2, 2)\n",
    "plt.plot('year', 'share', 'bo-', data=popdata)\n",
    "plt.title('Share of people aged 65+ years')\n",
    "plt.ylabel('Percentage')\n",
    "plt.rc('font', size=6) \n",
    "\n",
    "plt.show()"
   ]
  },
  {
   "cell_type": "markdown",
   "metadata": {},
   "source": [
    "Furthermore, the public seems to be outsourcing more to private suppliers. In the figure below the number of recipients referrals that choose a private supplier of home care is a bit higher in 2017 then it was in 2008, but not as high as it was in 2012. A benefit from outsourcing home care is that private companies can be more effective as well as supplying faster, better and cheaper solutions than the municipality. On the other side, private companies most likely want to maximize profits, which might make private companies more focused on making the costs of home care as small as possible. This might result in private companies supplying lower quality home care. However, the municipality has to have two or three contractors that provide home care in the municipality, where one of them has to be the municipality itself. If the private companies drive down the quality of home care in order to maximize profit the elders can always choose a different provider (e.g. the municipality itself). This can help keep the quality of the home care provided by private companies at a certain level."
   ]
  },
  {
   "cell_type": "code",
   "execution_count": 199,
   "metadata": {},
   "outputs": [
    {
     "data": {
      "image/png": "[encoded data removed]",
      "text/plain": [
       "<Figure size 480x360 with 1 Axes>"
      ]
     },
     "metadata": {
      "needs_background": "light"
     },
     "output_type": "display_data"
    }
   ],
   "source": [
    "plt.figure(figsize=(4,3), dpi=120)\n",
    "\n",
    "plt.plot('year', 'private_supply', 'ko-', data=data_final_a)\n",
    "plt.plot('year', 'public_supply', 'bo-', data=data_final_a)\n",
    "plt.title('Development in permanent home help 2008-2017')\n",
    "plt.ylabel('Number of recipients referral')\n",
    "plt.legend()\n",
    "plt.rc('font', size=6) "
   ]
  },
  {
   "cell_type": "markdown",
   "metadata": {},
   "source": [
    "## Differences across municipalities"
   ]
  },
  {
   "cell_type": "markdown",
   "metadata": {},
   "source": [
    "From the figure below it is possible to see the development of the number of recipients referral split on how many that have chosen the municipality as their supplier of home care and how many that have chosen a private supplier. Generally, most of the municipalities have experienced a decrease in the number of recipients referrals in total and in many of the municipalities there has been an increase in the number of recipients referrals that choose a private supplier. However, the level is still below the number of recipients referrals that have chosen the municipality as their supplier of home care in most of the municipalities."
   ]
  },
  {
   "cell_type": "markdown",
   "metadata": {},
   "source": [
    "The figure below does paint a somewhat mixed picture of the development of the number of recipients referral in each municipality. This is mainly due to the fact that the size of the population aged 65 years and above differ in each municipality. Taking into account the number of people aged 65 years and above could help internalize that difference. However, the development in the total number of recipients referral will still be affected by the difference between the general health of the elderly population in each municipality."
   ]
  },
  {
   "cell_type": "code",
   "execution_count": 200,
   "metadata": {},
   "outputs": [],
   "source": [
    "def plot_e(dataframe, municipality): \n",
    "    I = dataframe['municipality'] == municipality\n",
    "\n",
    "    ax=dataframe.loc[I,:].plot(x='year', y=['private_supply','public_supply'], style=['-bo', '-ko'], figsize=(8, 5), fontsize=11, legend='False')\n",
    "    ax.legend(loc='upper right', fontsize=11)\n",
    "    ax.set_xlabel('Year',fontsize=11)\n",
    "    ax.set_ylabel('Number of recipients referral', fontsize=11)"
   ]
  },
  {
   "cell_type": "code",
   "execution_count": 196,
   "metadata": {},
   "outputs": [
    {
     "data": {
      "application/vnd.jupyter.widget-view+json": {
       "model_id": "acea289870a24ff6958dc6bc13a4b041",
       "version_major": 2,
       "version_minor": 0
      },
      "text/plain": [
       "interactive(children=(Dropdown(description='Municipality', index=11, options=('Aabenraa', 'Aalborg', 'Aarhus',…"
      ]
     },
     "metadata": {},
     "output_type": "display_data"
    }
   ],
   "source": [
    "widgets.interact(plot_e, \n",
    "    dataframe = widgets.fixed(data_final_b),\n",
    "    municipality = widgets.Dropdown(description='Municipality', options=data_final_b.municipality.unique(), value='Copenhagen')\n",
    ");"
   ]
  },
  {
   "cell_type": "markdown",
   "metadata": {
    "toc-hr-collapsed": false
   },
   "source": [
    "# Conclusion"
   ]
  },
  {
   "cell_type": "markdown",
   "metadata": {},
   "source": [
    "In this data project, the development of home care for the elderly in Denmark has been addressed. It has been shown that the number of people aged 65 years and above and their share of the total population has been increasing over the period 2008-2017. In the same period, the total number of recipients referral to home care has been decreasing, and further, the share that chooses a private supplier of home care has been increasing. "
   ]
  }
 ],
 "metadata": {
  "kernelspec": {
   "display_name": "Python 3",
   "language": "python",
   "name": "python3"
  },
  "language_info": {
   "codemirror_mode": {
    "name": "ipython",
    "version": 3
   },
   "file_extension": ".py",
   "mimetype": "text/x-python",
   "name": "python",
   "nbconvert_exporter": "python",
   "pygments_lexer": "ipython3",
   "version": "3.7.1"
  }
 },
 "nbformat": 4,
 "nbformat_minor": 2
}
